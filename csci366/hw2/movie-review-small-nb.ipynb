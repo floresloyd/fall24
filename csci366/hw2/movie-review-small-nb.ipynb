{
 "cells": [
  {
   "cell_type": "code",
   "execution_count": 7,
   "metadata": {},
   "outputs": [
    {
     "name": "stdout",
     "output_type": "stream",
     "text": [
      "paths loaded ....\n"
     ]
    }
   ],
   "source": [
    "train_data_path = '../train'\n",
    "test_data_path = '../test'\n",
    "print(\"paths loaded ....\")"
   ]
  },
  {
   "cell_type": "code",
   "execution_count": null,
   "metadata": {},
   "outputs": [
    {
     "name": "stdout",
     "output_type": "stream",
     "text": [
      "{}\n"
     ]
    }
   ],
   "source": [
    "# PREPROCESS.PY\n",
    "import os\n",
    "import re\n",
    "\n",
    "def preprocess(data_path):\n",
    "    # Initialize a dictionary to store word frequencies {word : count}\n",
    "    bow_dict = {}\n",
    "\n",
    "    # Traverse through all files in the given directory and its subdirectories\n",
    "    for root, _, files in os.walk(data_path):\n",
    "        for file in files:\n",
    "            # Construct the file path\n",
    "            file_path = os.path.join(root, file)\n",
    "\n",
    "            # Read the content of the file\n",
    "            with open(file_path, 'r', encoding='utf-8') as f:\n",
    "                text = f.read()\n",
    "\n",
    "            # Pre-process the text: lowercase, tokenize, and remove punctuation\n",
    "            words = re.findall(r'\\b\\w+\\b', text.lower())  # Tokenizes words, ignores punctuation, and lowercases\n",
    "\n",
    "            # Update the hashmap with word counts\n",
    "            for word in words:\n",
    "                if word in bow_dict:\n",
    "                    bow_dict[word] += 1\n",
    "                else:\n",
    "                    bow_dict[word] = 1\n",
    "\n",
    "    return bow_dict\n",
    "\n",
    "\n"
   ]
  },
  {
   "cell_type": "code",
   "execution_count": null,
   "metadata": {},
   "outputs": [
    {
     "name": "stdout",
     "output_type": "stream",
     "text": [
      "Prior Probabilities: {'action': 0.6, 'comedy': 0.4}\n"
     ]
    }
   ],
   "source": [
    "import os \n",
    "\n",
    "def compute_prior_probabilities(data_path):\n",
    "    # Dictionary to store prior probabilities {class_name: prior probability}\n",
    "    prior_probs = {}\n",
    "    total_docs = 0          # document counter\n",
    "    class_doc_counts = {}   # storage to store frequency of documents per class to be used to compute prior probability \n",
    "\n",
    "    # Traverse through all directories (classes)\n",
    "    for root, dirs, files in os.walk(data_path):\n",
    "        # Skip the root directory and only process class subdirectories\n",
    "        if root != data_path:\n",
    "            # Get the class name (folder name)\n",
    "            class_name = os.path.basename(root)\n",
    "            num_docs = len(files)  # Count the number of documents in this class\n",
    "            total_docs += num_docs  # Update the total document count\n",
    "            class_doc_counts[class_name] = num_docs  # Store the document count for this class\n",
    "\n",
    "    # Calculate prior probabilities for each class\n",
    "    for class_name, num_docs in class_doc_counts.items():\n",
    "        prior_probs[class_name] = num_docs / total_docs if total_docs > 0 else 0\n",
    "\n",
    "    return prior_probs\n",
    "\n",
    "# Example usage:\n",
    "data_path = \"./movie-review-small-data/train\" \n",
    "prior_probs = compute_prior_probabilities(data_path)\n",
    "\n",
    "print(\"Prior Probabilities:\", prior_probs)\n"
   ]
  }
 ],
 "metadata": {
  "kernelspec": {
   "display_name": "Python 3",
   "language": "python",
   "name": "python3"
  },
  "language_info": {
   "codemirror_mode": {
    "name": "ipython",
    "version": 3
   },
   "file_extension": ".py",
   "mimetype": "text/x-python",
   "name": "python",
   "nbconvert_exporter": "python",
   "pygments_lexer": "ipython3",
   "version": "3.12.7"
  }
 },
 "nbformat": 4,
 "nbformat_minor": 2
}
