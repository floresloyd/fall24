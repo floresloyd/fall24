{
 "cells": [
  {
   "cell_type": "markdown",
   "metadata": {},
   "source": []
  },
  {
   "cell_type": "markdown",
   "metadata": {},
   "source": [
    "Vocabulary size: 83045"
   ]
  },
  {
   "cell_type": "markdown",
   "metadata": {},
   "source": []
  },
  {
   "cell_type": "markdown",
   "metadata": {},
   "source": [
    "< to be computed after program runs>"
   ]
  },
  {
   "cell_type": "markdown",
   "metadata": {},
   "source": [
    "(10 points) What percentage of word tokens and word types in the test corpus did not occur in\n",
    "training (before you mapped the unknown words to <unk> in training and test data)?\n",
    "Please include the padding symbol </s> in your calculations. Do not include the start\n",
    "of sentence padding symbol <s>."
   ]
  },
  {
   "cell_type": "code",
   "execution_count": null,
   "metadata": {},
   "outputs": [],
   "source": [
    "to answer:\n",
    "1. obtain all unique tokens "
   ]
  },
  {
   "cell_type": "code",
   "execution_count": null,
   "metadata": {},
   "outputs": [],
   "source": [
    "bigram_counts = {}\n",
    "\n",
    "for sentence in processed_train_sentences:\n",
    "    words_in_sentence = sentence.split()\n",
    "    \n",
    "    # Iterate over sentence with index to count bigrams correctly\n",
    "    for i in range(len(words_in_sentence) - 1): # Iterate through word array only once\n",
    "        w1, w2 = words_in_sentence[i], words_in_sentence[i + 1]\n",
    "        \n",
    "        if (w1, w2) not in bigram_counts:\n",
    "            bigram_counts[(w1, w2)] = 1\n",
    "        else: \n",
    "            bigram_counts[(w1, w2)] += 1\n",
    "\n",
    "print(\"Bigrams counted. Highest bigram frequencies: \\n\")\n",
    "# Sort the bigrams by their counts in descending order\n",
    "sorted_bigrams = sorted(bigram_counts.items(), key=lambda x: x[1], reverse=True)\n",
    "\n",
    "# Use a for loop to print the top 10 bigrams\n",
    "for i in range(10):\n",
    "    bigram, count = sorted_bigrams[i]\n",
    "    print(f\"{bigram} : {count}\")"
   ]
  }
 ],
 "metadata": {
  "kernelspec": {
   "display_name": "Python 3",
   "language": "python",
   "name": "python3"
  },
  "language_info": {
   "name": "python",
   "version": "3.12.7"
  }
 },
 "nbformat": 4,
 "nbformat_minor": 2
}
