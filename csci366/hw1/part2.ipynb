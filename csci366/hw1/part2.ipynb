{
 "cells": [
  {
   "cell_type": "markdown",
   "metadata": {},
   "source": [
    "# HOMEWORK 1 PART 2"
   ]
  },
  {
   "cell_type": "markdown",
   "metadata": {},
   "source": [
    "### Part 0: Load Packages and Dataset"
   ]
  },
  {
   "cell_type": "code",
   "execution_count": 1,
   "metadata": {},
   "outputs": [],
   "source": [
    "# Packages"
   ]
  },
  {
   "cell_type": "code",
   "execution_count": 1,
   "metadata": {},
   "outputs": [
    {
     "name": "stdout",
     "output_type": "stream",
     "text": [
      "Train Sentence 1: I am Sam\n",
      "Train Sentence 2: Sam I am\n",
      "Train Sentence 3: I am Sam\n",
      "Train Sentence 4: I do not like green eggs and Sam\n",
      "\n",
      "Test Sentence 1: Before the movie started , with co - stars Matthew Broderick , Chris Rock , and Renee Zellweger in attendance , Seinfeld did a little stand up for the audience just to warm \" em up .\n",
      "Test Sentence 2: If you have owned the property for more than three years , you can apply for \" taper relief , \" by which you can reduce any taxable gain by 5% for each year of ownership , up to a maximum 40% .\n",
      "Test Sentence 3: The road was pitted with tank treads .\n",
      "Test Sentence 4: But the drama has attracted attention in the US largely because of the character 's many sexual trysts .\n",
      "Test Sentence 5: Global truck makers are keen for a larger share of India 's market , the fifth - biggest in the world , and expected to expand on improving infrastructure and new safety and emission rules .\n",
      "Test Sentence 6: EDWARDS : I think his view adds something to this debate , and I think he ought to be able to express it .\n",
      "Test Sentence 7: Mr. Di Mauro faced a lifetime ban if the investigation had concluded he bet on his own matches or affected the outcome of a match .\n",
      "Test Sentence 8: Indonesia Reports 85th Bird Flu Death jakarta , September 07 ( qna ) - A 33-year - old Indonesian Man From Sumatra Island Died Of Bird Flu On Thursday , Bringing The Death Toll In The World 's Worst - affected Nation To 85 And The Global Toll To 200 , Health Officials Said . a Health Ministry Official Earlier Confirmed That The Man Was Infected With The Deadly H5n1 Virus , After Two Tests Came Back Positive . h5n1 Is Endemic In Birds Across Nearly All Of Indonesia . ( qna ) qna 1120 Gmt 2007/09/07 <\n",
      "Test Sentence 9: Stevens was a student at Washington at the time .\n",
      "Test Sentence 10: I 've got f***ing Harold Pinter 's face about two feet from me , and above him I 've got f***ing Branagh giving me notes .\n",
      "Test Sentence 11: NBA regular season MVP Dirk Nowitzki of Dallas returns to lead Germany , the second - place team in 2005 , and France will feature playoffs MVP Tony Parker ( Spurs ) , Boris Diaw ( Suns ) and Ronny Turiaf ( Lakers ) .\n",
      "Test Sentence 12: The angry campaign prompted Swiss Economy Minister , Doris Leuthard -- a Christian Democrat -- to warn that foreign investors might be scared off .\n",
      "Test Sentence 13: Forward - looking statements in this press release include matters that involve known and unknown risks , uncertainties and other factors that may cause actual results , levels of activity , performance or achievements to differ materially from results expressed or implied by this press release .\n",
      "Test Sentence 14: It 's bonkers conkers to them - but we want to dispel some of the sillier stories that crop up .\n",
      "Test Sentence 15: He intended to return and rebuild his church as soon as the fighting stopped .\n",
      "Test Sentence 16: Mortgage lending slows , says Bank\n",
      "Test Sentence 17: All About Chen Shui - bian • Beijing • Taiwan\n",
      "Test Sentence 18: He anticipates he will lose trade and may even have to employ more staff , as checking everyone 's IDs will be time - consuming .\n",
      "Test Sentence 19: Is President Bush deliberately helping Hillary to win the nomination because he feels she would be the easiest one of the Democrats to beat ?\n",
      "Test Sentence 20: Heralding the second phase of Sasol Mining 's broad - based black economic empowerment ( BEE ) strategy , this transaction enables Sasol Mining to achieve compliance with the Mining Charter 's ownership requirements .\n",
      "Test Sentence 21: Love finished 9-of-12 on free throws and had eight offensive rebounds .\n",
      "Test Sentence 22: As expected , the ruling party member Mohammadmian Soomro will head a caretaker line - up that will be sworn in today , said the railways minister Sheikh Rashid Ahmed , a close Musharraf ally .\n",
      "Test Sentence 23: Ms Wilson did a two - year stint as a senior adviser at the World Bank in Washington before joining Scottish Enterprise .\n",
      "Test Sentence 24: The 29 doctors who collaborated on the Lancet article pooled results from many trials into a \" meta - analysis , \" a standard method of dealing with contradictory or inconclusive results from smaller trials .\n",
      "Test Sentence 25: The destruction of the vehicles would provide valuable crash analysis while footage of the destruction would be used as a deterrent .\n",
      "Test Sentence 26: Associated Press writers Ashraf Khan and Afzal Nadeem in Karachi , Sadaqat Jan and Zarar Khan in Islamabad and Barbara Surk in Dubai contributed to this report .\n",
      "Test Sentence 27: The Bush administration 's new federal disaster - response plan drew harsh criticism yesterday from state and local officials only a day after it was unveiled , prompting fresh calls by House Democrats to make the Federal Emergency Management Agency a stand - alone Cabinet - level agency .\n",
      "Test Sentence 28: The head of Turkey 's Higher Education Board a well - known secularist law scholar condemned Erdogan 's move to lift the head scarf ban .\n",
      "Test Sentence 29: The Commerce Department said retail sales fell 0.4 percent in August excluding vehicle sales , compared with a 0.7 percent rise in July and economists ' consensus forecast for a 0.1 percent increase .\n",
      "Test Sentence 30: No lawsuits have been filed yet stemming from the April 16 shootings on the university 's Blacksburg campus , where mentally disturbed student Seung - Hui Cho killed two people in a dormitory and 30 in a classroom building before taking his own life .\n",
      "Test Sentence 31: As he did so , the European Union tightened its economic sanctions , banning imports of Burmese timber , gemstones and precious metals .\n",
      "Test Sentence 32: Rangers : McGregor , Hutton , Weir , Cuellar , Papac , Beasley , Ferguson , Faye ( Novo 46 ) , Thomson , McCulloch , Cousin ( Boyd 79 ) .\n",
      "Test Sentence 33: Muszaphar was said by reserve astronaut Faiz Khaleed to be \" a bit nervous , \" but mainly focussed on scientific experiments he will conduct .\n",
      "Test Sentence 34: His interlocutor , a journalist played by Ms. Streep , must fight to hold on to her professional skepticism , a fight that she is ashamed of having lost when the case for the Iraq war was being made .\n",
      "Test Sentence 35: 24 /PRNewswire/ -- Sentillion , whose identity and access management ( IAM ) solutions are the most widely implemented in healthcare , today announced that it has been positioned in the Visionaries quadrant by Gartner , Inc. in the Magic Quadrant for User Provisioning , 2H07 .\n",
      "Test Sentence 36: She said that although hyperemesis can strike any ethnic group , women from the Bengali and South Sea Islands populations appear to be particularly badly affected .\n",
      "Test Sentence 37: There are people who turn 26 , 36 , 46 , up to 96 every day .\n",
      "Test Sentence 38: Founded in 1994 , ACCO is leading analogue and RF design solutions .\n",
      "Test Sentence 39: Woman dies after trout farm crash\n",
      "Test Sentence 40: \" We see the folded cards being one of the fastest - growing segments of the photo merchandise market , \" he said .\n",
      "Test Sentence 41: The travel scouts said Saadiyat Island 's main attractions would be the luxury hotels planned for its upmarket Saadiyat Beach district and its world - class museums , including the Guggenheim Abu Dhabi and the Louvre Abu Dhabi , which will be housed in the island 's Cultural District ..\n",
      "Test Sentence 42: We want to publicly apologize to Mr. Conley for any distress he has experienced .\n",
      "Test Sentence 43: His protestations were in vain , and Scots would play a key role in the popularisation of tea , with the Bruce brothers Robert and Charles establishing the first plantations in India .\n",
      "Test Sentence 44: Admirers signed a book of condolences placed by a vase of sunflowers - Pavarotti 's favorite - outside the cathedral .\n",
      "Test Sentence 45: I 've never beaten her but this is a different tournament , different circumstances .\n",
      "Test Sentence 46: The interruptions come throughout the road trip , and clearly revitalize Chavez just like the cup upon cup of sweetened black coffee that his daughter pours him from a Thermos .\n",
      "Test Sentence 47: The big question mark is Fred Thompson .\n",
      "Test Sentence 48: Los Angeles this year went 150 days without a measurable rainfall .\n",
      "Test Sentence 49: Mogadishu has been plagued by fighting since government troops and their Ethiopian allies chased out the Council of Islamic Courts in December .\n",
      "Test Sentence 50: For the first nine months of 2007 , WTI crude averaged US$ 66.26 ( Cdn$73.22 ) per bbl compared to US$ 68.29 ( Cdn$77.32 ) per bbl for the same period in 2006 .\n",
      "Test Sentence 51: Other possible candidates Bennett mentioned are Ashland County Commissioner Matt Miller , state Sen. Ron Amstutz of Wooster , state Rep. Scott Oelslager of Canton and Canton Mayor Janet Weir Creighton , who is seeking re - election this year .\n",
      "Test Sentence 52: Because of this , the claim for the better dog at times sounds more like a battle over moral superiority between the East and the West than breeder rivalry .\n",
      "Test Sentence 53: There are more than 8,000 lenders out there , \" he said .\n",
      "Test Sentence 54: Smart Move will be exhibiting at the show and meeting with the attendees to discuss how Smart Move 's resources and unique service profile may address client requirements of corporate relocation plans and budget constraints for domestic and international moves .\n",
      "Test Sentence 55: It could have a dramatic effect on its profit margin .\n",
      "Test Sentence 56: Entering Thursday , he led the NL in triples ( 18 ) and runs ( 129 ) , had 353 total bases ( one fewer than Alex Rodriguez ) and was two home runs shy of joining the 30 - 30 club ( 30 homers , 30 stolen bases ) .\n",
      "Test Sentence 57: FIRST , second and third - class degrees would be replaced by a system which gives employers a more detailed breakdown of students ' skills under plans to be published today .\n",
      "Test Sentence 58: She had been born amid wealth - the Bhuttos owned great estates - and she had glamour .\n",
      "Test Sentence 59: Medical Justice Services is working on a new idea , HealthCare 2.0 , which would provide health insurance for the 47 million Americans who do n't have it , fund needed patient safety programs and ensure that patients and their families would be taken care of financially should they die or become disabled -- all without additional funding .\n",
      "Test Sentence 60: Ansen Review : Latest ' Harry Potter ' Never Takes Off\n",
      "Test Sentence 61: Scunthorpe manager boss Nigel Adkins is set to name an unchanged side following the midweek win at Sheffield Wednesday .\n",
      "Test Sentence 62: Families like the Huletts appreciate all of the goodwill from those in the travel industry who offer discounts to military families .\n",
      "Test Sentence 63: \" He 's a guy who has done a lot of stuff , he 's made a lot of dough , \" Mr. DeVito said .\n",
      "Test Sentence 64: BRITISH shoppers may have perfected the art of queuing , but they are fast losing patience with shops which give poor service .\n",
      "Test Sentence 65: \" The decision - making process for going into Iraq was very hastily done , and I think the facts were n't there , and I just do n't think you go to war for those reasons , \" Theron , 32 , told Associated Press Television in an interview .\n",
      "Test Sentence 66: Greens Worldwide is a majority owned subsidiary of SportsQuest , Inc.\n",
      "Test Sentence 67: Now Hillman is returning to the United States .\n",
      "Test Sentence 68: He said he did all of this , even though Pam threw him under the bus in the past .\n",
      "Test Sentence 69: The author is fine on the making of a cook - Julia 's 12-year run - up to \" Mastering the Art of French Cooking \" ( 1961 ) , her rigorous , restless quest to find \" the very flavor of Frenchness \" and \" press it like a butterfly onto every page . \"\n",
      "Test Sentence 70: The Teamsters ' brief in the case is due on Nov.\n",
      "Test Sentence 71: University personnel and students can check the status of the situation on the campus Web site at www.desu.edu or by calling DSU at ( 302 ) 857 - 7669 .\n",
      "Test Sentence 72: Our focus now is to deploy our new industrial coil - to - panel ( CTP ) line in Vaughan by the end of Q1 2008 , which we expect will improve manufacturing productivity significantly .\n",
      "Test Sentence 73: When the Supreme Court ruled the administration 's position illegal , it affirmed that the Geneva Conventions must be applied to detainees held anywhere .\n",
      "Test Sentence 74: The day after Sir Menzies Campbell resigned as leader of the Liberal Democrats , where was the leadership contender Chris Huhne to be found ?\n",
      "Test Sentence 75: SOURCE Norm Hill Entertainment , Ltd.\n",
      "Test Sentence 76: I had no idea who he was .\n",
      "Test Sentence 77: He entered the game hitting .211 , but extended his season - high hitting streak to seven games with a single in the fourth . ...\n",
      "Test Sentence 78: The turkeys adopted by the couple near Santa Cruz came from a Northwest plane that was carrying several thousand baby turkeys , called poults , from a breeder in Canada to a rancher in California this July .\n",
      "Test Sentence 79: In late October 2007 third - party toll treatment of the higher grade gold ore from the Ezulwini Mine commenced and will continue until the new gold plant at the Ezulwini Mine is commissioned .\n",
      "Test Sentence 80: LTT says the joint venture will not only benefit from its own training expertise , but also that of its subsidiary TRAINICO , which provides vocational re - training for technical and commercial personnel within the aviation industry .\n",
      "Test Sentence 81: In a parting shot , the report said the CRE 's agenda \" has not been supported well by Government . \" © Copyright Press Association Ltd 2007 , All Rights Reserved .\n",
      "Test Sentence 82: Outside , time had darkened the tannish brick of the facade .\n",
      "Test Sentence 83: Officials elsewhere in the country have reported similar problems .\n",
      "Test Sentence 84: Both groups were followed for 18 years .\n",
      "Test Sentence 85: Disastrous fires swept through southern Greece in August destroying more than 200,000 hectares ( 500,000 acres ) of forest and farmland , and claiming 67 lives .\n",
      "Test Sentence 86: Of her crow 's feet , she says : \" I would like to have these fixed , \" adding that she 's a passionate advocate of plastic surgery .\n",
      "Test Sentence 87: It 's just so easy to use the subway for the cost of only two SEPTA tokens ( $ 2.60 ) to get to and from the game conveniently and comfortably -- without the hassle .\n",
      "Test Sentence 88: I turned around .\n",
      "Test Sentence 89: IATA said the move would help the industry phase out paper tickets by 2010 and save more than $ 500 million annually .\n",
      "Test Sentence 90: Gateway determines the kind of services offered , sets interest rates and does random audits , watching while Andy and Dave count every dollar in the safe .\n",
      "Test Sentence 91: Project director Bob Patrick told the Marine Times that information about medals is not checked before it is published , although some attempts to verify Medal of Honor claims have been made \" in the past , \" the last some 18 months ago .\n",
      "Test Sentence 92: Does this unshakeable certainty make it easier for her to accept whatever happens to her ?\n",
      "Test Sentence 93: The burned house sits on one of a series of peninsulas , all tightly packed with homes , that are about two blocks from the beach and connect with the Intracoastal Waterway .\n",
      "Test Sentence 94: It 's a vindication of the message that everyone is different , says PC Lavender .\n",
      "Test Sentence 95: Intel has become the latest in an increasingly long line of companies to launch a so - called ' no e - mail day ' .\n",
      "Test Sentence 96: Customers looking for extra guidance , of course , can always retain a personal shopper .\n",
      "Test Sentence 97: But why would anyone want to go to Afghanistan in the first place ?\n",
      "Test Sentence 98: \" There is ample liquidity and financial institutions ' lending continues to show a steady increase , \" the bank said in a statement .\n",
      "Test Sentence 99: SAP also recently announced enhancements to SAP NetWeaver Portal , including new efficiencies for collaborative project work and updated Web 2.0 tools including wikis and social networking , to support enterprise - wide collaboration while also helping customers ensure security and compliance .\n",
      "Test Sentence 100: So I sort of broke away from them .\n"
     ]
    }
   ],
   "source": [
    "# Load Train and Test\n",
    "\n",
    "# Load the train.txt file\n",
    "with open('dummy_corpus.txt', 'r', encoding='utf-8') as train_file:\n",
    "    train_sentences = [line.strip() for line in train_file.readlines()]\n",
    "\n",
    "# Load the test.txt file\n",
    "with open('test.txt', 'r', encoding='utf-8') as test_file:\n",
    "    test_sentences = [line.strip() for line in test_file.readlines()]\n",
    "\n",
    "# Test if we loaded sentences properly\n",
    "for i in range(len(train_sentences)):\n",
    "    print(f\"Train Sentence {i+1}: {train_sentences[i]}\")\n",
    "    \n",
    "print()\n",
    "\n",
    "for i in range(len(test_sentences)):\n",
    "    print(f\"Test Sentence {i+1}: {test_sentences[i]}\")\n",
    "    "
   ]
  },
  {
   "cell_type": "markdown",
   "metadata": {},
   "source": [
    "### Part 1: Pre-Processing"
   ]
  },
  {
   "cell_type": "markdown",
   "metadata": {},
   "source": [
    "- Pad each sentence in the training and test corpora with start and end symbols (you can use &lt;s&gt; and &lt;/s&gt;, respectively)."
   ]
  },
  {
   "cell_type": "code",
   "execution_count": 2,
   "metadata": {},
   "outputs": [
    {
     "name": "stdout",
     "output_type": "stream",
     "text": [
      "Padded Train Sentence 1: <s> I am Sam </s>\n",
      "Padded Train Sentence 2: <s> Sam I am </s>\n",
      "Padded Train Sentence 3: <s> I am Sam </s>\n",
      "Padded Train Sentence 4: <s> I do not like green eggs and Sam </s>\n",
      "\n",
      "Padded Test Sentence 1: <s> Before the movie started , with co - stars Matthew Broderick , Chris Rock , and Renee Zellweger in attendance , Seinfeld did a little stand up for the audience just to warm \" em up . </s>\n",
      "Padded Test Sentence 2: <s> If you have owned the property for more than three years , you can apply for \" taper relief , \" by which you can reduce any taxable gain by 5% for each year of ownership , up to a maximum 40% . </s>\n",
      "Padded Test Sentence 3: <s> The road was pitted with tank treads . </s>\n",
      "Padded Test Sentence 4: <s> But the drama has attracted attention in the US largely because of the character 's many sexual trysts . </s>\n"
     ]
    }
   ],
   "source": [
    "padded_train_sentences = train_sentences\n",
    "padded_test_sentences = test_sentences\n",
    "\n",
    "# Iterate over each sentence using a range based for loop as strings are immutable, hence we have to overwrite indeces\n",
    "for i in range(len(padded_train_sentences)):\n",
    "    padded_train_sentences[i] = \"<s> \" + padded_train_sentences[i] + \" </s>\"\n",
    "\n",
    "for i in range(len(padded_test_sentences)):\n",
    "    padded_test_sentences[i] = \"<s> \" + padded_test_sentences[i] + \" </s>\"\n",
    "\n",
    "\n",
    "# Test if we padded our sentences properly\n",
    "for i in range(len(train_sentences)):\n",
    "    print(f\"Padded Train Sentence {i+1}: {padded_train_sentences[i]}\")\n",
    "    \n",
    "print()\n",
    "\n",
    "for i in range(len(train_sentences)):\n",
    "    print(f\"Padded Test Sentence {i+1}: {padded_test_sentences[i]}\")"
   ]
  },
  {
   "cell_type": "markdown",
   "metadata": {},
   "source": [
    "- Lowercase all words in the training and test corpora. Note that the data already has been tokenized (i.e. the punctuation has been split off words).\n"
   ]
  },
  {
   "cell_type": "code",
   "execution_count": 4,
   "metadata": {},
   "outputs": [
    {
     "name": "stdout",
     "output_type": "stream",
     "text": [
      "Lowered Train Sentence 1: <s> i am sam </s>\n",
      "Lowered Train Sentence 2: <s> sam i am </s>\n",
      "Lowered Train Sentence 3: <s> i am sam </s>\n",
      "Lowered Train Sentence 4: <s> i do not like green eggs and sam </s>\n",
      "\n",
      "Lowered Test Sentence 1: <s> before the movie started , with co - stars matthew broderick , chris rock , and renee zellweger in attendance , seinfeld did a little stand up for the audience just to warm \" em up . </s>\n",
      "Lowered Test Sentence 2: <s> if you have owned the property for more than three years , you can apply for \" taper relief , \" by which you can reduce any taxable gain by 5% for each year of ownership , up to a maximum 40% . </s>\n",
      "Lowered Test Sentence 3: <s> the road was pitted with tank treads . </s>\n",
      "Lowered Test Sentence 4: <s> but the drama has attracted attention in the us largely because of the character 's many sexual trysts . </s>\n"
     ]
    }
   ],
   "source": [
    "lowered_padded_train_sentences = train_sentences\n",
    "lowered_padded_test_sentences = test_sentences\n",
    "\n",
    "for i in range(len(lowered_padded_train_sentences)):\n",
    "    lowered_padded_train_sentences[i] = padded_train_sentences[i].lower() \n",
    "\n",
    "for i in range(len(lowered_padded_test_sentences)):\n",
    "    lowered_padded_test_sentences[i] = lowered_padded_test_sentences[i].lower() \n",
    "\n",
    "# Test if we lowered sentences properly\n",
    "for i in range(len(train_sentences)):\n",
    "    print(f\"Lowered Train Sentence {i+1}: {lowered_padded_train_sentences[i]}\")\n",
    "    \n",
    "print()\n",
    "\n",
    "for i in range(len(train_sentences)):\n",
    "    print(f\"Lowered Test Sentence {i+1}: {lowered_padded_test_sentences[i]}\")\n"
   ]
  },
  {
   "cell_type": "markdown",
   "metadata": {},
   "source": [
    "- Replace all words occurring in the training data once with the token &lt;unk&gt; and &lt;/unk&gt;. Every word in the test data not seen in training should be treated as &lt;unk&gt;.\n"
   ]
  },
  {
   "cell_type": "code",
   "execution_count": 7,
   "metadata": {},
   "outputs": [
    {
     "name": "stdout",
     "output_type": "stream",
     "text": [
      "Vocabulary Obtained ...\n",
      "['sam', '<s>', 'green', 'eggs', '</s>', 'i', 'and', 'do', 'like', 'am', 'not']\n"
     ]
    }
   ],
   "source": [
    "# Obtain Vocabulary | List of unique tokens  \n",
    "\n",
    "vocabulary = set()      # Using a set reduces the complexity into 0(n + m) rather than 0(n^2) as there is no need to check for membership of the token since sets handle duplicates\n",
    "\n",
    "for sentence in lowered_padded_train_sentences:\n",
    "    tokens = sentence.split()\n",
    "    \n",
    "    for token in tokens:\n",
    "        vocabulary.add(token)\n",
    "\n",
    "\n",
    "vocabulary = list(vocabulary)\n",
    "\n",
    "print(f\"Vocabulary Obtained ...\")\n",
    "print(vocabulary)"
   ]
  },
  {
   "cell_type": "code",
   "execution_count": 6,
   "metadata": {},
   "outputs": [
    {
     "name": "stdout",
     "output_type": "stream",
     "text": [
      "Vocabulary size: 11\n"
     ]
    }
   ],
   "source": [
    "vocabulary_size = len(vocabulary)\n",
    "print(f\"Vocabulary size: {vocabulary_size}\")"
   ]
  },
  {
   "cell_type": "code",
   "execution_count": 8,
   "metadata": {},
   "outputs": [
    {
     "name": "stdout",
     "output_type": "stream",
     "text": [
      "Frequencies counted ...\n"
     ]
    }
   ],
   "source": [
    "# Counting frequency of all tokens \n",
    "frequency_count = {}\n",
    "\n",
    "for sentence in lowered_padded_train_sentences:\n",
    "    tokens = sentence.split()\n",
    "    \n",
    "    for token in tokens:\n",
    "        if token in frequency_count:\n",
    "            frequency_count[token] += 1\n",
    "        else:\n",
    "            frequency_count[token] = 1\n",
    "\n",
    "# for token in vocabulary:\n",
    "#     print(f\"{str(token).ljust(20)} : {frequency_count[token]}\")\n",
    "\n",
    "print(\"Frequencies counted ...\")"
   ]
  },
  {
   "cell_type": "code",
   "execution_count": 9,
   "metadata": {},
   "outputs": [
    {
     "name": "stdout",
     "output_type": "stream",
     "text": [
      "{'<s>': 4, 'i': 4, 'am': 3, 'sam': 4, '</s>': 4, 'do': 1, 'not': 1, 'like': 1, 'green': 1, 'eggs': 1, 'and': 1}\n"
     ]
    }
   ],
   "source": [
    "print(frequency_count)"
   ]
  },
  {
   "cell_type": "code",
   "execution_count": 10,
   "metadata": {},
   "outputs": [
    {
     "name": "stdout",
     "output_type": "stream",
     "text": [
      "There are a total of 25 tokens.\n"
     ]
    }
   ],
   "source": [
    "corpus_size = 0\n",
    "\n",
    "for token in frequency_count:\n",
    "    corpus_size += frequency_count[token]\n",
    "\n",
    "print(f\"There are a total of {corpus_size} tokens.\")"
   ]
  },
  {
   "cell_type": "code",
   "execution_count": 9,
   "metadata": {},
   "outputs": [
    {
     "name": "stdout",
     "output_type": "stream",
     "text": [
      "Tokens that only appeared once accounted for ...\n"
     ]
    }
   ],
   "source": [
    "# Identify words that occured only once and change value to the uknown token\n",
    "tokens_that_appeared_only_once = []\n",
    "\n",
    "for token in frequency_count:\n",
    "    if frequency_count[token] <= 1:\n",
    "        tokens_that_appeared_only_once.append(token)\n",
    "\n",
    "#print(tokens_that_appeared_only_once)\n",
    "print(\"Tokens that only appeared once accounted for ...\")"
   ]
  },
  {
   "cell_type": "code",
   "execution_count": 10,
   "metadata": {},
   "outputs": [
    {
     "name": "stdout",
     "output_type": "stream",
     "text": [
      "There are 41307 tokens that appeared only once or less\n"
     ]
    }
   ],
   "source": [
    "number_of_tokens_that_appeared_only_once = len(tokens_that_appeared_only_once)\n",
    "print(f\"There are {number_of_tokens_that_appeared_only_once} tokens that appeared only once or less\")"
   ]
  },
  {
   "cell_type": "code",
   "execution_count": 11,
   "metadata": {},
   "outputs": [
    {
     "ename": "KeyboardInterrupt",
     "evalue": "",
     "output_type": "error",
     "traceback": [
      "\u001b[1;31m---------------------------------------------------------------------------\u001b[0m",
      "\u001b[1;31mKeyboardInterrupt\u001b[0m                         Traceback (most recent call last)",
      "Cell \u001b[1;32mIn[11], line 16\u001b[0m\n\u001b[0;32m     14\u001b[0m             processed_tokens\u001b[38;5;241m.\u001b[39mappend(\u001b[38;5;124m\"\u001b[39m\u001b[38;5;124m<unk>\u001b[39m\u001b[38;5;124m\"\u001b[39m)\n\u001b[0;32m     15\u001b[0m         \u001b[38;5;28;01melse\u001b[39;00m:\n\u001b[1;32m---> 16\u001b[0m             processed_tokens\u001b[38;5;241m.\u001b[39mappend(token)\n\u001b[0;32m     18\u001b[0m \u001b[38;5;28mprint\u001b[39m(\u001b[38;5;124m\"\u001b[39m\u001b[38;5;124mProcessed sentences ...\u001b[39m\u001b[38;5;124m\"\u001b[39m)\n",
      "\u001b[1;31mKeyboardInterrupt\u001b[0m: "
     ]
    }
   ],
   "source": [
    "# Replace all tokens that appeared only once with <unk>\n",
    "processed_train_sentences = lowered_padded_train_sentences\n",
    "\n",
    "for sentence in processed_train_sentences:\n",
    "    tokens = sentence.split()\n",
    "\n",
    "    # Declare an empty list to hold the processed tokens\n",
    "    processed_tokens = []\n",
    "\n",
    "    # Iterate over each toekn in the sentence \n",
    "    for token in tokens:\n",
    "\n",
    "        if token in tokens_that_appeared_only_once:\n",
    "            processed_tokens.append(\"<unk>\")\n",
    "        else:\n",
    "            processed_tokens.append(token)\n",
    "\n",
    "print(\"Processed sentences ...\")"
   ]
  },
  {
   "cell_type": "code",
   "execution_count": 12,
   "metadata": {},
   "outputs": [],
   "source": [
    "# Tokenize sentences once before the loop\n",
    "tokenized_sentences = [sentence.split() for sentence in lowered_padded_train_sentences]\n",
    "\n",
    "# Replace tokens that appeared only once with <unk> in a more optimized way\n",
    "processed_train_sentences = [\n",
    "    \" \".join([\"<unk>\" if token in tokens_that_appeared_only_once else token for token in sentence])\n",
    "    for sentence in tokenized_sentences\n",
    "]\n",
    "\n",
    "print(\"Tokens that appear only once have been replaced with <unk>\")"
   ]
  },
  {
   "cell_type": "code",
   "execution_count": 19,
   "metadata": {},
   "outputs": [
    {
     "name": "stdout",
     "output_type": "stream",
     "text": [
      "Number of tokens that appeared only once  : 41307\n",
      "Total number of <unk> tokens in the corpus: 41307\n",
      "Are they equal? : True\n"
     ]
    }
   ],
   "source": [
    "# Verify that you replaced all the tokens that appearaed only once with the unkown token.\n",
    "\n",
    "unk_count = 0\n",
    "\n",
    "for sentence in processed_train_sentences:\n",
    "    sentence = sentence.split()\n",
    "    \n",
    "    for token in sentence:\n",
    "\n",
    "        if token == \"<unk>\":\n",
    "            unk_count += 1\n",
    "\n",
    "\n",
    "print(f\"Number of tokens that appeared only once  : {number_of_tokens_that_appeared_only_once}\")\n",
    "print(f\"Total number of <unk> tokens in the corpus: {unk_count}\")\n",
    "\n",
    "print(f\"Are they equal? : {number_of_tokens_that_appeared_only_once == unk_count}\")\n"
   ]
  },
  {
   "cell_type": "markdown",
   "metadata": {},
   "source": [
    "# Part 2 Training the Models"
   ]
  },
  {
   "cell_type": "code",
   "execution_count": null,
   "metadata": {},
   "outputs": [],
   "source": [
    "# Unigram MLE"
   ]
  },
  {
   "cell_type": "code",
   "execution_count": null,
   "metadata": {},
   "outputs": [],
   "source": [
    "# Bigram MLE"
   ]
  },
  {
   "cell_type": "code",
   "execution_count": 20,
   "metadata": {},
   "outputs": [],
   "source": [
    "# Bigram + 1 smoothing"
   ]
  },
  {
   "cell_type": "markdown",
   "metadata": {},
   "source": [
    "### Questions: \n",
    "#### Questions Regarding Pre-processing:\n",
    "1. Should we actually replace all words occuring once with <- unk -> token in the original corpus? Then wouldn't the count for this token be large? Or shall we just modify the frequency count by removing all the ones that only occur once?\n",
    "2. what do i do with random occurences like: <br>\n",
    "- Things with apostrophe get considered like its own token ('s) # my guess is yea, because this may add context for example ownership etc\n",
    "- Emails\n",
    "- dashes ( - )\n",
    "#### Questions Regarding Modeling \n",
    "1. when you say train a unigram mle, maximum mle, and bigram model w + 1 smoothing, does that mean for each sentence in test, we assign a probability to the entire sentence? Kinda like, x = sentence, y = prob of sentence? \n",
    "2. For the test data, we also replace token <= 1 to unk or just the freq count?\n",
    "\n",
    "\n",
    "### Questions regarding the report\n",
    "- what did you mean when you said, what sentence? the corpus used on ex 1?   <br>\n",
    "- 6. (20 points) Compute the perplexity of the sentence above under each of the models.\n",
    "- 7. (20 points) Compute the perplexity of the entire test corpus under each of the models. Discuss the differences in the results you obtained.\n",
    "\n"
   ]
  }
 ],
 "metadata": {
  "kernelspec": {
   "display_name": "Python 3",
   "language": "python",
   "name": "python3"
  },
  "language_info": {
   "codemirror_mode": {
    "name": "ipython",
    "version": 3
   },
   "file_extension": ".py",
   "mimetype": "text/x-python",
   "name": "python",
   "nbconvert_exporter": "python",
   "pygments_lexer": "ipython3",
   "version": "3.12.7"
  }
 },
 "nbformat": 4,
 "nbformat_minor": 2
}
