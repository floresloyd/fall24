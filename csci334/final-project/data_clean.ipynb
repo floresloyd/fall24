{
 "cells": [
  {
   "cell_type": "markdown",
   "metadata": {},
   "source": [
    "# Goal \n",
    "- Given a dataset with 50 features we must reduce it to `7` features including the 2 possible target variables `A1Cresult` and `readmitted`. We must then find `5` more features that can have strong predictive power in determining our desired target. We decided that `7` is a good number because it greatly reducing the number of potential patterns to be discovered without losing information. If we use all 50 it basically will be almost impossible to find the true pattern."
   ]
  },
  {
   "cell_type": "markdown",
   "metadata": {},
   "source": [
    "# About the dataset\n",
    "- The dataset represents ten years (1999-2008) of clinical care at 130 US hospitals and integrated delivery networks. Each row concerns hospital records of patients diagnosed with diabetes, who underwent laboratory, medications, and stayed up to 14 days. The goal is to determine the early readmission of the patient within 30 days of discharge. The problem is important for the following reasons. Despite high-quality evidence showing improved clinical outcomes for diabetic patients who receive various preventive and therapeutic interventions, many patients do not receive them. This can be partially attributed to arbitrary diabetes management in hospital environments, which fail to attend to glycemic control. Failure to provide proper diabetes care not only increases the managing costs for the hospitals (as the patients are readmitted) but also impacts the morbidity and mortality of the patients, who may face complications associated with diabetes."
   ]
  },
  {
   "cell_type": "markdown",
   "metadata": {},
   "source": [
    "### Import Libraries & Data #### "
   ]
  },
  {
   "cell_type": "code",
   "execution_count": 1,
   "metadata": {},
   "outputs": [
    {
     "name": "stdout",
     "output_type": "stream",
     "text": [
      "Libraries imported ....\n"
     ]
    }
   ],
   "source": [
    "import pandas as pd\n",
    "import numpy as np\n",
    "from sklearn.model_selection import train_test_split\n",
    "print(\"Libraries imported ....\")"
   ]
  },
  {
   "cell_type": "code",
   "execution_count": 2,
   "metadata": {},
   "outputs": [
    {
     "name": "stdout",
     "output_type": "stream",
     "text": [
      "data loaded ...\n"
     ]
    }
   ],
   "source": [
    "# Load Data\n",
    "df = pd.read_csv(\"./diabetic_data.csv\")\n",
    "print(\"data loaded ...\")"
   ]
  },
  {
   "cell_type": "code",
   "execution_count": 3,
   "metadata": {},
   "outputs": [
    {
     "name": "stdout",
     "output_type": "stream",
     "text": [
      "? -> NaN\n"
     ]
    }
   ],
   "source": [
    "df.replace('?', np.nan, inplace=True)   # Replace all '?' to NaN for easier processing\n",
    "print(\"? -> NaN\")"
   ]
  },
  {
   "cell_type": "code",
   "execution_count": 4,
   "metadata": {},
   "outputs": [
    {
     "data": {
      "text/html": [
       "<div>\n",
       "<style scoped>\n",
       "    .dataframe tbody tr th:only-of-type {\n",
       "        vertical-align: middle;\n",
       "    }\n",
       "\n",
       "    .dataframe tbody tr th {\n",
       "        vertical-align: top;\n",
       "    }\n",
       "\n",
       "    .dataframe thead th {\n",
       "        text-align: right;\n",
       "    }\n",
       "</style>\n",
       "<table border=\"1\" class=\"dataframe\">\n",
       "  <thead>\n",
       "    <tr style=\"text-align: right;\">\n",
       "      <th></th>\n",
       "      <th>encounter_id</th>\n",
       "      <th>patient_nbr</th>\n",
       "      <th>race</th>\n",
       "      <th>gender</th>\n",
       "      <th>age</th>\n",
       "      <th>weight</th>\n",
       "      <th>admission_type_id</th>\n",
       "      <th>discharge_disposition_id</th>\n",
       "      <th>admission_source_id</th>\n",
       "      <th>time_in_hospital</th>\n",
       "      <th>...</th>\n",
       "      <th>citoglipton</th>\n",
       "      <th>insulin</th>\n",
       "      <th>glyburide-metformin</th>\n",
       "      <th>glipizide-metformin</th>\n",
       "      <th>glimepiride-pioglitazone</th>\n",
       "      <th>metformin-rosiglitazone</th>\n",
       "      <th>metformin-pioglitazone</th>\n",
       "      <th>change</th>\n",
       "      <th>diabetesMed</th>\n",
       "      <th>readmitted</th>\n",
       "    </tr>\n",
       "  </thead>\n",
       "  <tbody>\n",
       "    <tr>\n",
       "      <th>0</th>\n",
       "      <td>2278392</td>\n",
       "      <td>8222157</td>\n",
       "      <td>Caucasian</td>\n",
       "      <td>Female</td>\n",
       "      <td>[0-10)</td>\n",
       "      <td>NaN</td>\n",
       "      <td>6</td>\n",
       "      <td>25</td>\n",
       "      <td>1</td>\n",
       "      <td>1</td>\n",
       "      <td>...</td>\n",
       "      <td>No</td>\n",
       "      <td>No</td>\n",
       "      <td>No</td>\n",
       "      <td>No</td>\n",
       "      <td>No</td>\n",
       "      <td>No</td>\n",
       "      <td>No</td>\n",
       "      <td>No</td>\n",
       "      <td>No</td>\n",
       "      <td>NO</td>\n",
       "    </tr>\n",
       "    <tr>\n",
       "      <th>1</th>\n",
       "      <td>149190</td>\n",
       "      <td>55629189</td>\n",
       "      <td>Caucasian</td>\n",
       "      <td>Female</td>\n",
       "      <td>[10-20)</td>\n",
       "      <td>NaN</td>\n",
       "      <td>1</td>\n",
       "      <td>1</td>\n",
       "      <td>7</td>\n",
       "      <td>3</td>\n",
       "      <td>...</td>\n",
       "      <td>No</td>\n",
       "      <td>Up</td>\n",
       "      <td>No</td>\n",
       "      <td>No</td>\n",
       "      <td>No</td>\n",
       "      <td>No</td>\n",
       "      <td>No</td>\n",
       "      <td>Ch</td>\n",
       "      <td>Yes</td>\n",
       "      <td>&gt;30</td>\n",
       "    </tr>\n",
       "    <tr>\n",
       "      <th>2</th>\n",
       "      <td>64410</td>\n",
       "      <td>86047875</td>\n",
       "      <td>AfricanAmerican</td>\n",
       "      <td>Female</td>\n",
       "      <td>[20-30)</td>\n",
       "      <td>NaN</td>\n",
       "      <td>1</td>\n",
       "      <td>1</td>\n",
       "      <td>7</td>\n",
       "      <td>2</td>\n",
       "      <td>...</td>\n",
       "      <td>No</td>\n",
       "      <td>No</td>\n",
       "      <td>No</td>\n",
       "      <td>No</td>\n",
       "      <td>No</td>\n",
       "      <td>No</td>\n",
       "      <td>No</td>\n",
       "      <td>No</td>\n",
       "      <td>Yes</td>\n",
       "      <td>NO</td>\n",
       "    </tr>\n",
       "    <tr>\n",
       "      <th>3</th>\n",
       "      <td>500364</td>\n",
       "      <td>82442376</td>\n",
       "      <td>Caucasian</td>\n",
       "      <td>Male</td>\n",
       "      <td>[30-40)</td>\n",
       "      <td>NaN</td>\n",
       "      <td>1</td>\n",
       "      <td>1</td>\n",
       "      <td>7</td>\n",
       "      <td>2</td>\n",
       "      <td>...</td>\n",
       "      <td>No</td>\n",
       "      <td>Up</td>\n",
       "      <td>No</td>\n",
       "      <td>No</td>\n",
       "      <td>No</td>\n",
       "      <td>No</td>\n",
       "      <td>No</td>\n",
       "      <td>Ch</td>\n",
       "      <td>Yes</td>\n",
       "      <td>NO</td>\n",
       "    </tr>\n",
       "    <tr>\n",
       "      <th>4</th>\n",
       "      <td>16680</td>\n",
       "      <td>42519267</td>\n",
       "      <td>Caucasian</td>\n",
       "      <td>Male</td>\n",
       "      <td>[40-50)</td>\n",
       "      <td>NaN</td>\n",
       "      <td>1</td>\n",
       "      <td>1</td>\n",
       "      <td>7</td>\n",
       "      <td>1</td>\n",
       "      <td>...</td>\n",
       "      <td>No</td>\n",
       "      <td>Steady</td>\n",
       "      <td>No</td>\n",
       "      <td>No</td>\n",
       "      <td>No</td>\n",
       "      <td>No</td>\n",
       "      <td>No</td>\n",
       "      <td>Ch</td>\n",
       "      <td>Yes</td>\n",
       "      <td>NO</td>\n",
       "    </tr>\n",
       "  </tbody>\n",
       "</table>\n",
       "<p>5 rows × 50 columns</p>\n",
       "</div>"
      ],
      "text/plain": [
       "   encounter_id  patient_nbr             race  gender      age weight  \\\n",
       "0       2278392      8222157        Caucasian  Female   [0-10)    NaN   \n",
       "1        149190     55629189        Caucasian  Female  [10-20)    NaN   \n",
       "2         64410     86047875  AfricanAmerican  Female  [20-30)    NaN   \n",
       "3        500364     82442376        Caucasian    Male  [30-40)    NaN   \n",
       "4         16680     42519267        Caucasian    Male  [40-50)    NaN   \n",
       "\n",
       "   admission_type_id  discharge_disposition_id  admission_source_id  \\\n",
       "0                  6                        25                    1   \n",
       "1                  1                         1                    7   \n",
       "2                  1                         1                    7   \n",
       "3                  1                         1                    7   \n",
       "4                  1                         1                    7   \n",
       "\n",
       "   time_in_hospital  ... citoglipton insulin  glyburide-metformin  \\\n",
       "0                 1  ...          No      No                   No   \n",
       "1                 3  ...          No      Up                   No   \n",
       "2                 2  ...          No      No                   No   \n",
       "3                 2  ...          No      Up                   No   \n",
       "4                 1  ...          No  Steady                   No   \n",
       "\n",
       "   glipizide-metformin  glimepiride-pioglitazone  metformin-rosiglitazone  \\\n",
       "0                   No                        No                       No   \n",
       "1                   No                        No                       No   \n",
       "2                   No                        No                       No   \n",
       "3                   No                        No                       No   \n",
       "4                   No                        No                       No   \n",
       "\n",
       "   metformin-pioglitazone  change diabetesMed readmitted  \n",
       "0                      No      No          No         NO  \n",
       "1                      No      Ch         Yes        >30  \n",
       "2                      No      No         Yes         NO  \n",
       "3                      No      Ch         Yes         NO  \n",
       "4                      No      Ch         Yes         NO  \n",
       "\n",
       "[5 rows x 50 columns]"
      ]
     },
     "execution_count": 4,
     "metadata": {},
     "output_type": "execute_result"
    }
   ],
   "source": [
    "df.head(5)\n"
   ]
  },
  {
   "cell_type": "code",
   "execution_count": 5,
   "metadata": {},
   "outputs": [
    {
     "data": {
      "text/plain": [
       "(101766, 50)"
      ]
     },
     "execution_count": 5,
     "metadata": {},
     "output_type": "execute_result"
    }
   ],
   "source": [
    "df.shape"
   ]
  },
  {
   "cell_type": "markdown",
   "metadata": {},
   "source": [
    "# Features to Keep \n",
    "\n",
    "### Potential Targets\n",
    "1. `readmitted`  - This represents whether the patient was readmitted and is directly related to patient outcomes.\n",
    "\n",
    "2. `A1Cresult` - Outcome of the hemoglobin A1c test, which measures the average blood sugar level over the past 2-3 months. It's a key metric for assessing diabetes control.\n",
    "\n",
    "### Additional 5 Features \n",
    "- We've determined that these features have the strongest predictive power on determining if a patient has diabetes. It will give a good glimpse of who the patient is, the severity of their diagnosis, and the complexity of their overall case.\n",
    "\n",
    "3. `age` - Despite age being in a range we believe that age still has strong predictive power on determining 'readmitted' or 'A1Cresult' as the older the person is the more prone to having diabetes.\n",
    "\n",
    "4. `time_in_hospital` - Indicates the length of hospital stay, potentially related to both readmission likelihood and diabetes control. \n",
    "\n",
    "\n",
    "5. `num_medications` - The number of medications prescribed could reflect the severity and complexity of the patient's condition.\n",
    "\n",
    "6. `number_diagnoses` - represents the total number of diagnoses, indicating the complexity of a patients condition.\n",
    "\n",
    "7. `insulin` - a key feature on indicating if someone has diabetes is if they are taking insulin as the prescription is cruicial in diabetes management. This maybe one of the most important features if we were to guess.\n",
    "\n",
    "\n",
    "### Total features = `7`\n",
    "- It also is great that these features have no null values which makes ensures data integrity as this is the true values of the dataset and we won't have to rely on imputation that makes the model less capable of generalizing as the imputation methods usually rely on interpolation.\n",
    "\n"
   ]
  },
  {
   "cell_type": "code",
   "execution_count": 9,
   "metadata": {},
   "outputs": [
    {
     "data": {
      "text/plain": [
       "Index(['encounter_id', 'patient_nbr', 'race', 'gender', 'age', 'weight',\n",
       "       'admission_type_id', 'discharge_disposition_id', 'admission_source_id',\n",
       "       'time_in_hospital', 'payer_code', 'medical_specialty',\n",
       "       'num_lab_procedures', 'num_procedures', 'num_medications',\n",
       "       'number_outpatient', 'number_emergency', 'number_inpatient', 'diag_1',\n",
       "       'diag_2', 'diag_3', 'number_diagnoses', 'max_glu_serum', 'A1Cresult',\n",
       "       'metformin', 'repaglinide', 'nateglinide', 'chlorpropamide',\n",
       "       'glimepiride', 'acetohexamide', 'glipizide', 'glyburide', 'tolbutamide',\n",
       "       'pioglitazone', 'rosiglitazone', 'acarbose', 'miglitol', 'troglitazone',\n",
       "       'tolazamide', 'examide', 'citoglipton', 'insulin',\n",
       "       'glyburide-metformin', 'glipizide-metformin',\n",
       "       'glimepiride-pioglitazone', 'metformin-rosiglitazone',\n",
       "       'metformin-pioglitazone', 'change', 'diabetesMed', 'readmitted'],\n",
       "      dtype='object')"
      ]
     },
     "execution_count": 9,
     "metadata": {},
     "output_type": "execute_result"
    }
   ],
   "source": [
    "df.columns"
   ]
  },
  {
   "cell_type": "code",
   "execution_count": 15,
   "metadata": {},
   "outputs": [
    {
     "name": "stdout",
     "output_type": "stream",
     "text": [
      "Features to keep: ['age', 'time_in_hospital', 'num_medications', 'number_diagnoses', 'insulin', 'A1Cresult', 'readmitted']. Total number of features: 7\n"
     ]
    }
   ],
   "source": [
    "features_to_keep = ['age', 'time_in_hospital', 'num_medications', 'number_diagnoses', 'insulin', 'A1Cresult', 'readmitted']\n",
    "print(f\"Features to keep: {features_to_keep}. Total number of features: {len(features_to_keep)}\")"
   ]
  },
  {
   "cell_type": "code",
   "execution_count": 16,
   "metadata": {},
   "outputs": [
    {
     "name": "stdout",
     "output_type": "stream",
     "text": [
      "Dataframe Reduced ...\n"
     ]
    }
   ],
   "source": [
    "# Reduce dataset\n",
    "reduced_df = df[features_to_keep]\n",
    "print(\"Dataframe Reduced ...\")"
   ]
  },
  {
   "cell_type": "code",
   "execution_count": 17,
   "metadata": {},
   "outputs": [
    {
     "data": {
      "text/html": [
       "<div>\n",
       "<style scoped>\n",
       "    .dataframe tbody tr th:only-of-type {\n",
       "        vertical-align: middle;\n",
       "    }\n",
       "\n",
       "    .dataframe tbody tr th {\n",
       "        vertical-align: top;\n",
       "    }\n",
       "\n",
       "    .dataframe thead th {\n",
       "        text-align: right;\n",
       "    }\n",
       "</style>\n",
       "<table border=\"1\" class=\"dataframe\">\n",
       "  <thead>\n",
       "    <tr style=\"text-align: right;\">\n",
       "      <th></th>\n",
       "      <th>age</th>\n",
       "      <th>time_in_hospital</th>\n",
       "      <th>num_medications</th>\n",
       "      <th>number_diagnoses</th>\n",
       "      <th>insulin</th>\n",
       "      <th>A1Cresult</th>\n",
       "      <th>readmitted</th>\n",
       "    </tr>\n",
       "  </thead>\n",
       "  <tbody>\n",
       "    <tr>\n",
       "      <th>0</th>\n",
       "      <td>[0-10)</td>\n",
       "      <td>1</td>\n",
       "      <td>1</td>\n",
       "      <td>1</td>\n",
       "      <td>No</td>\n",
       "      <td>NaN</td>\n",
       "      <td>NO</td>\n",
       "    </tr>\n",
       "    <tr>\n",
       "      <th>1</th>\n",
       "      <td>[10-20)</td>\n",
       "      <td>3</td>\n",
       "      <td>18</td>\n",
       "      <td>9</td>\n",
       "      <td>Up</td>\n",
       "      <td>NaN</td>\n",
       "      <td>&gt;30</td>\n",
       "    </tr>\n",
       "    <tr>\n",
       "      <th>2</th>\n",
       "      <td>[20-30)</td>\n",
       "      <td>2</td>\n",
       "      <td>13</td>\n",
       "      <td>6</td>\n",
       "      <td>No</td>\n",
       "      <td>NaN</td>\n",
       "      <td>NO</td>\n",
       "    </tr>\n",
       "    <tr>\n",
       "      <th>3</th>\n",
       "      <td>[30-40)</td>\n",
       "      <td>2</td>\n",
       "      <td>16</td>\n",
       "      <td>7</td>\n",
       "      <td>Up</td>\n",
       "      <td>NaN</td>\n",
       "      <td>NO</td>\n",
       "    </tr>\n",
       "    <tr>\n",
       "      <th>4</th>\n",
       "      <td>[40-50)</td>\n",
       "      <td>1</td>\n",
       "      <td>8</td>\n",
       "      <td>5</td>\n",
       "      <td>Steady</td>\n",
       "      <td>NaN</td>\n",
       "      <td>NO</td>\n",
       "    </tr>\n",
       "    <tr>\n",
       "      <th>...</th>\n",
       "      <td>...</td>\n",
       "      <td>...</td>\n",
       "      <td>...</td>\n",
       "      <td>...</td>\n",
       "      <td>...</td>\n",
       "      <td>...</td>\n",
       "      <td>...</td>\n",
       "    </tr>\n",
       "    <tr>\n",
       "      <th>101761</th>\n",
       "      <td>[70-80)</td>\n",
       "      <td>3</td>\n",
       "      <td>16</td>\n",
       "      <td>9</td>\n",
       "      <td>Down</td>\n",
       "      <td>&gt;8</td>\n",
       "      <td>&gt;30</td>\n",
       "    </tr>\n",
       "    <tr>\n",
       "      <th>101762</th>\n",
       "      <td>[80-90)</td>\n",
       "      <td>5</td>\n",
       "      <td>18</td>\n",
       "      <td>9</td>\n",
       "      <td>Steady</td>\n",
       "      <td>NaN</td>\n",
       "      <td>NO</td>\n",
       "    </tr>\n",
       "    <tr>\n",
       "      <th>101763</th>\n",
       "      <td>[70-80)</td>\n",
       "      <td>1</td>\n",
       "      <td>9</td>\n",
       "      <td>13</td>\n",
       "      <td>Down</td>\n",
       "      <td>NaN</td>\n",
       "      <td>NO</td>\n",
       "    </tr>\n",
       "    <tr>\n",
       "      <th>101764</th>\n",
       "      <td>[80-90)</td>\n",
       "      <td>10</td>\n",
       "      <td>21</td>\n",
       "      <td>9</td>\n",
       "      <td>Up</td>\n",
       "      <td>NaN</td>\n",
       "      <td>NO</td>\n",
       "    </tr>\n",
       "    <tr>\n",
       "      <th>101765</th>\n",
       "      <td>[70-80)</td>\n",
       "      <td>6</td>\n",
       "      <td>3</td>\n",
       "      <td>9</td>\n",
       "      <td>No</td>\n",
       "      <td>NaN</td>\n",
       "      <td>NO</td>\n",
       "    </tr>\n",
       "  </tbody>\n",
       "</table>\n",
       "<p>101766 rows × 7 columns</p>\n",
       "</div>"
      ],
      "text/plain": [
       "            age  time_in_hospital  num_medications  number_diagnoses insulin  \\\n",
       "0        [0-10)                 1                1                 1      No   \n",
       "1       [10-20)                 3               18                 9      Up   \n",
       "2       [20-30)                 2               13                 6      No   \n",
       "3       [30-40)                 2               16                 7      Up   \n",
       "4       [40-50)                 1                8                 5  Steady   \n",
       "...         ...               ...              ...               ...     ...   \n",
       "101761  [70-80)                 3               16                 9    Down   \n",
       "101762  [80-90)                 5               18                 9  Steady   \n",
       "101763  [70-80)                 1                9                13    Down   \n",
       "101764  [80-90)                10               21                 9      Up   \n",
       "101765  [70-80)                 6                3                 9      No   \n",
       "\n",
       "       A1Cresult readmitted  \n",
       "0            NaN         NO  \n",
       "1            NaN        >30  \n",
       "2            NaN         NO  \n",
       "3            NaN         NO  \n",
       "4            NaN         NO  \n",
       "...          ...        ...  \n",
       "101761        >8        >30  \n",
       "101762       NaN         NO  \n",
       "101763       NaN         NO  \n",
       "101764       NaN         NO  \n",
       "101765       NaN         NO  \n",
       "\n",
       "[101766 rows x 7 columns]"
      ]
     },
     "execution_count": 17,
     "metadata": {},
     "output_type": "execute_result"
    }
   ],
   "source": [
    "reduced_df"
   ]
  },
  {
   "cell_type": "code",
   "execution_count": 18,
   "metadata": {},
   "outputs": [
    {
     "name": "stdout",
     "output_type": "stream",
     "text": [
      "                  Total Nulls  Percentage Null\n",
      "A1Cresult               84748        83.277322\n",
      "age                         0         0.000000\n",
      "time_in_hospital            0         0.000000\n",
      "num_medications             0         0.000000\n",
      "number_diagnoses            0         0.000000\n",
      "insulin                     0         0.000000\n",
      "readmitted                  0         0.000000\n"
     ]
    }
   ],
   "source": [
    "# Generate a null values report\n",
    "null_report = pd.DataFrame({\n",
    "    'Total Nulls': reduced_df.isnull().sum(),\n",
    "    'Percentage Null': (reduced_df.isnull().mean() * 100)\n",
    "}).sort_values(by='Total Nulls', ascending=False)\n",
    "\n",
    "print(null_report)\n"
   ]
  },
  {
   "cell_type": "markdown",
   "metadata": {},
   "source": [
    "This is great, we have no null values. A1Cresult seems like there are a lot of null values but that is intentional as having no result means that maybe the test was not even ordered as the case may not be as serious. "
   ]
  },
  {
   "cell_type": "markdown",
   "metadata": {},
   "source": [
    "### Feature transformation"
   ]
  },
  {
   "cell_type": "markdown",
   "metadata": {},
   "source": [
    "## age <br>\n",
    "Possible Values: 10 possible values. The ages aren't specific and have been turned into bins. We will convert them into numerical bins as it would be easier to process these values computationally if they were integers. <br>\n",
    "- [0-10)  -> 1\n",
    "- [10-20)  -> 2\n",
    "- [20-30) -> 3\n",
    "- [30-40) -> 4\n",
    "- [40-50) -> 5\n",
    "- [50-60) -> 6\n",
    "- [60-70) -> 7\n",
    "- [70-80) -> 8\n",
    "- [80-90) -> 9\n",
    "- [90-100) -> 10"
   ]
  },
  {
   "cell_type": "code",
   "execution_count": 21,
   "metadata": {},
   "outputs": [
    {
     "data": {
      "text/plain": [
       "array(['[0-10)', '[10-20)', '[20-30)', '[30-40)', '[40-50)', '[50-60)',\n",
       "       '[60-70)', '[70-80)', '[80-90)', '[90-100)'], dtype=object)"
      ]
     },
     "execution_count": 21,
     "metadata": {},
     "output_type": "execute_result"
    }
   ],
   "source": [
    "reduced_df['age'].unique()"
   ]
  },
  {
   "cell_type": "code",
   "execution_count": null,
   "metadata": {},
   "outputs": [
    {
     "name": "stdout",
     "output_type": "stream",
     "text": [
      "0    1\n",
      "1    2\n",
      "2    3\n",
      "3    4\n",
      "4    5\n",
      "Name: age, dtype: int64\n"
     ]
    },
    {
     "name": "stderr",
     "output_type": "stream",
     "text": [
      "C:\\Users\\usflo\\AppData\\Local\\Temp\\ipykernel_14684\\3357611460.py:16: SettingWithCopyWarning: \n",
      "A value is trying to be set on a copy of a slice from a DataFrame.\n",
      "Try using .loc[row_indexer,col_indexer] = value instead\n",
      "\n",
      "See the caveats in the documentation: https://pandas.pydata.org/pandas-docs/stable/user_guide/indexing.html#returning-a-view-versus-a-copy\n",
      "  reduced_df['age'] = reduced_df['age'].replace(age_mapping)\n"
     ]
    }
   ],
   "source": [
    "# Define the mapping from age bins to integers\n",
    "age_mapping = {\n",
    "    '[0-10)': 1,\n",
    "    '[10-20)': 2,\n",
    "    '[20-30)': 3,\n",
    "    '[30-40)': 4,\n",
    "    '[40-50)': 5,\n",
    "    '[50-60)': 6,\n",
    "    '[60-70)': 7,\n",
    "    '[70-80)': 8,\n",
    "    '[80-90)': 9,\n",
    "    '[90-100)': 10\n",
    "}\n",
    "\n",
    "# Replace age bins with integers in the DataFrame\n",
    "reduced_df['age'] = reduced_df['age'].replace(age_mapping)"
   ]
  },
  {
   "cell_type": "code",
   "execution_count": 24,
   "metadata": {},
   "outputs": [
    {
     "data": {
      "text/plain": [
       "array([ 1,  2,  3,  4,  5,  6,  7,  8,  9, 10], dtype=int64)"
      ]
     },
     "execution_count": 24,
     "metadata": {},
     "output_type": "execute_result"
    }
   ],
   "source": [
    "reduced_df['age'].unique()"
   ]
  },
  {
   "cell_type": "markdown",
   "metadata": {},
   "source": [
    "## time_in_hospital <br>\n",
    "- there is no need to transform this feature as it is a integer which is just the number of days between admission and discharge. It also has no null values"
   ]
  },
  {
   "cell_type": "markdown",
   "metadata": {},
   "source": [
    "## num_medications <br>\n",
    "- like `time_in_hospital` this does not need to be transformed as it is an integer indicating the nubmer of medications. "
   ]
  },
  {
   "cell_type": "markdown",
   "metadata": {},
   "source": [
    "## number_diagnoses <br>\n",
    "- similar to the previous two features this is just a count of medications which does not need to be transformed"
   ]
  },
  {
   "cell_type": "markdown",
   "metadata": {},
   "source": [
    "### Why didn't we transform the previous 3?  <br>\n",
    "- These are just counts and if we transformed them it would just be bin the values into the unique values which will make our data untrue. There is no reason to bin numerical counts"
   ]
  },
  {
   "cell_type": "markdown",
   "metadata": {},
   "source": [
    "## insulin <br>\n",
    "\n",
    "- `No` - No insulin was prescribed or administered. \n",
    "- `Down` - Indicates a decrease in the insulin dosage.\n",
    "- `Steady` - Indicates that the insulin dosage remained consistent.\n",
    "- `Up` - Indicates an increase in the insulin dosage.\n",
    "<br>\n",
    "-  Modification we convert these into numerical bins as well with the mapping them into integers."
   ]
  },
  {
   "cell_type": "code",
   "execution_count": null,
   "metadata": {},
   "outputs": [
    {
     "data": {
      "text/plain": [
       "array(['No', 'Up', 'Steady', 'Down'], dtype=object)"
      ]
     },
     "execution_count": 32,
     "metadata": {},
     "output_type": "execute_result"
    }
   ],
   "source": []
  },
  {
   "cell_type": "code",
   "execution_count": 33,
   "metadata": {},
   "outputs": [
    {
     "name": "stdout",
     "output_type": "stream",
     "text": [
      "Insulin has been mapped ...\n"
     ]
    },
    {
     "name": "stderr",
     "output_type": "stream",
     "text": [
      "C:\\Users\\usflo\\AppData\\Local\\Temp\\ipykernel_14684\\2480410216.py:10: SettingWithCopyWarning: \n",
      "A value is trying to be set on a copy of a slice from a DataFrame.\n",
      "Try using .loc[row_indexer,col_indexer] = value instead\n",
      "\n",
      "See the caveats in the documentation: https://pandas.pydata.org/pandas-docs/stable/user_guide/indexing.html#returning-a-view-versus-a-copy\n",
      "  reduced_df['insulin'] = reduced_df['insulin'].replace(insulin_mapping)\n"
     ]
    }
   ],
   "source": [
    "# Define the mapping for insulin\n",
    "insulin_mapping = {\n",
    "    'No': 1,      # Map 'No' to 1\n",
    "    'Down': 2,    # Map 'Down' to 2\n",
    "    'Steady': 3,  # Map 'Steady' to 3\n",
    "    'Up': 4       # Map 'Up' to 4\n",
    "}\n",
    "\n",
    "# Replace insulin values with the mapping in the DataFrame\n",
    "reduced_df['insulin'] = reduced_df['insulin'].replace(insulin_mapping)\n",
    "\n",
    "print(\"Insulin has been mapped ...\")"
   ]
  },
  {
   "cell_type": "code",
   "execution_count": 34,
   "metadata": {},
   "outputs": [
    {
     "data": {
      "text/plain": [
       "array([1, 4, 3, 2], dtype=int64)"
      ]
     },
     "execution_count": 34,
     "metadata": {},
     "output_type": "execute_result"
    }
   ],
   "source": [
    "reduced_df['insulin'].unique()"
   ]
  },
  {
   "cell_type": "markdown",
   "metadata": {},
   "source": [
    "## A1Cresult <br>\n",
    "- `>8` : This suggests the patient has consistently high blood glucose levels over time and may require adjustments to their diabetes management plan, such as changes to medication, diet, or lifestyle.\n",
    "\n",
    "- `>7` : This level suggests the patient is managing their blood sugar better than >8 but still may not meet the recommended target range for A1c..\n",
    "\n",
    "- `Norm` : The patient has good blood sugar control, likely meeting the target set by their healthcare provider.\n",
    "\n",
    "- `nan` : This means the test wasn't conducted or results are unavailable, so no inference about long-term blood sugar control can be made. This may imply that the tests were not needed making the case less complicated.\n",
    "\n",
    "\n",
    "- The modification will be to convert the unique values into numerical values so that we can process the data easier."
   ]
  },
  {
   "cell_type": "code",
   "execution_count": 28,
   "metadata": {},
   "outputs": [
    {
     "data": {
      "text/plain": [
       "array([nan, '>7', '>8', 'Norm'], dtype=object)"
      ]
     },
     "execution_count": 28,
     "metadata": {},
     "output_type": "execute_result"
    }
   ],
   "source": [
    "reduced_df['A1Cresult'].unique()"
   ]
  },
  {
   "cell_type": "code",
   "execution_count": 29,
   "metadata": {},
   "outputs": [
    {
     "name": "stdout",
     "output_type": "stream",
     "text": [
      "Mapped A1Cresult ...\n"
     ]
    },
    {
     "name": "stderr",
     "output_type": "stream",
     "text": [
      "C:\\Users\\usflo\\AppData\\Local\\Temp\\ipykernel_14684\\1117270933.py:10: SettingWithCopyWarning: \n",
      "A value is trying to be set on a copy of a slice from a DataFrame.\n",
      "Try using .loc[row_indexer,col_indexer] = value instead\n",
      "\n",
      "See the caveats in the documentation: https://pandas.pydata.org/pandas-docs/stable/user_guide/indexing.html#returning-a-view-versus-a-copy\n",
      "  reduced_df['A1Cresult'] = reduced_df['A1Cresult'].replace(a1c_mapping)\n"
     ]
    }
   ],
   "source": [
    "# Define the mapping for A1Cresult\n",
    "a1c_mapping = {\n",
    "    np.nan: 1,  # Map NaN to 1\n",
    "    'Norm': 2,  # Map 'Norm' to 2\n",
    "    '>7': 3,    # Map '>7' to 3\n",
    "    '>8': 4     # Map '>8' to 4\n",
    "}\n",
    "\n",
    "# Replace A1Cresult values with the mapping in the DataFrame\n",
    "reduced_df['A1Cresult'] = reduced_df['A1Cresult'].replace(a1c_mapping)\n",
    "print(\"Mapped A1Cresult ...\")"
   ]
  },
  {
   "cell_type": "code",
   "execution_count": 30,
   "metadata": {},
   "outputs": [
    {
     "data": {
      "text/plain": [
       "array([1, 3, 4, 2], dtype=int64)"
      ]
     },
     "execution_count": 30,
     "metadata": {},
     "output_type": "execute_result"
    }
   ],
   "source": [
    "reduced_df['A1Cresult'].unique()"
   ]
  },
  {
   "cell_type": "markdown",
   "metadata": {},
   "source": [
    "## readmitted <br>\n",
    "- NO - patient has not been readmitted back within the time of the study\n",
    "- `>30` - Patient was readmitted after a month\n",
    "- `<30` - Patient was readmitted within a month\n",
    "<br>\n",
    "\n",
    "- similar to what we've done before we just map this into numerical integers as well"
   ]
  },
  {
   "cell_type": "code",
   "execution_count": null,
   "metadata": {},
   "outputs": [
    {
     "data": {
      "text/plain": [
       "array(['NO', '>30', '<30'], dtype=object)"
      ]
     },
     "execution_count": 36,
     "metadata": {},
     "output_type": "execute_result"
    }
   ],
   "source": [
    "reduced_df['readmitted'].unique()"
   ]
  },
  {
   "cell_type": "code",
   "execution_count": 37,
   "metadata": {},
   "outputs": [
    {
     "name": "stdout",
     "output_type": "stream",
     "text": [
      "readmitted has been mapped ...\n"
     ]
    },
    {
     "name": "stderr",
     "output_type": "stream",
     "text": [
      "C:\\Users\\usflo\\AppData\\Local\\Temp\\ipykernel_14684\\2274955807.py:9: SettingWithCopyWarning: \n",
      "A value is trying to be set on a copy of a slice from a DataFrame.\n",
      "Try using .loc[row_indexer,col_indexer] = value instead\n",
      "\n",
      "See the caveats in the documentation: https://pandas.pydata.org/pandas-docs/stable/user_guide/indexing.html#returning-a-view-versus-a-copy\n",
      "  reduced_df['readmitted'] = reduced_df['readmitted'].replace(readmitted_mapping)\n"
     ]
    }
   ],
   "source": [
    "# Define the mapping for readmitted\n",
    "readmitted_mapping = {\n",
    "    'NO': 1,     # Map 'NO' to 1\n",
    "    '>30': 2,    # Map '>30' to 2\n",
    "    '<30': 3     # Map '<30' to 3\n",
    "}\n",
    "\n",
    "# Replace readmitted values with the mapping in the DataFrame\n",
    "reduced_df['readmitted'] = reduced_df['readmitted'].replace(readmitted_mapping)\n",
    "\n",
    "print(\"readmitted has been mapped ...\")\n"
   ]
  },
  {
   "cell_type": "code",
   "execution_count": 38,
   "metadata": {},
   "outputs": [
    {
     "data": {
      "text/plain": [
       "array([1, 2, 3], dtype=int64)"
      ]
     },
     "execution_count": 38,
     "metadata": {},
     "output_type": "execute_result"
    }
   ],
   "source": [
    "reduced_df['readmitted'].unique()"
   ]
  },
  {
   "cell_type": "markdown",
   "metadata": {},
   "source": [
    "# Train-test-split\n",
    "- Our data has been fully preprocessed and transformed and is ready to be used for modeling. To turn this into a supervised learning task we must assing X (our features) and Y(our target) and split the data. We are opting in for a 80-train, 20-test, split or the default as there are `101,766` rows which is plenty to train on to evaluate on."
   ]
  },
  {
   "cell_type": "code",
   "execution_count": 39,
   "metadata": {},
   "outputs": [
    {
     "data": {
      "text/html": [
       "<div>\n",
       "<style scoped>\n",
       "    .dataframe tbody tr th:only-of-type {\n",
       "        vertical-align: middle;\n",
       "    }\n",
       "\n",
       "    .dataframe tbody tr th {\n",
       "        vertical-align: top;\n",
       "    }\n",
       "\n",
       "    .dataframe thead th {\n",
       "        text-align: right;\n",
       "    }\n",
       "</style>\n",
       "<table border=\"1\" class=\"dataframe\">\n",
       "  <thead>\n",
       "    <tr style=\"text-align: right;\">\n",
       "      <th></th>\n",
       "      <th>age</th>\n",
       "      <th>time_in_hospital</th>\n",
       "      <th>num_medications</th>\n",
       "      <th>number_diagnoses</th>\n",
       "      <th>insulin</th>\n",
       "      <th>A1Cresult</th>\n",
       "      <th>readmitted</th>\n",
       "    </tr>\n",
       "  </thead>\n",
       "  <tbody>\n",
       "    <tr>\n",
       "      <th>0</th>\n",
       "      <td>1</td>\n",
       "      <td>1</td>\n",
       "      <td>1</td>\n",
       "      <td>1</td>\n",
       "      <td>1</td>\n",
       "      <td>1</td>\n",
       "      <td>1</td>\n",
       "    </tr>\n",
       "    <tr>\n",
       "      <th>1</th>\n",
       "      <td>2</td>\n",
       "      <td>3</td>\n",
       "      <td>18</td>\n",
       "      <td>9</td>\n",
       "      <td>4</td>\n",
       "      <td>1</td>\n",
       "      <td>2</td>\n",
       "    </tr>\n",
       "    <tr>\n",
       "      <th>2</th>\n",
       "      <td>3</td>\n",
       "      <td>2</td>\n",
       "      <td>13</td>\n",
       "      <td>6</td>\n",
       "      <td>1</td>\n",
       "      <td>1</td>\n",
       "      <td>1</td>\n",
       "    </tr>\n",
       "    <tr>\n",
       "      <th>3</th>\n",
       "      <td>4</td>\n",
       "      <td>2</td>\n",
       "      <td>16</td>\n",
       "      <td>7</td>\n",
       "      <td>4</td>\n",
       "      <td>1</td>\n",
       "      <td>1</td>\n",
       "    </tr>\n",
       "    <tr>\n",
       "      <th>4</th>\n",
       "      <td>5</td>\n",
       "      <td>1</td>\n",
       "      <td>8</td>\n",
       "      <td>5</td>\n",
       "      <td>3</td>\n",
       "      <td>1</td>\n",
       "      <td>1</td>\n",
       "    </tr>\n",
       "    <tr>\n",
       "      <th>5</th>\n",
       "      <td>6</td>\n",
       "      <td>3</td>\n",
       "      <td>16</td>\n",
       "      <td>9</td>\n",
       "      <td>3</td>\n",
       "      <td>1</td>\n",
       "      <td>2</td>\n",
       "    </tr>\n",
       "    <tr>\n",
       "      <th>6</th>\n",
       "      <td>7</td>\n",
       "      <td>4</td>\n",
       "      <td>21</td>\n",
       "      <td>7</td>\n",
       "      <td>3</td>\n",
       "      <td>1</td>\n",
       "      <td>1</td>\n",
       "    </tr>\n",
       "    <tr>\n",
       "      <th>7</th>\n",
       "      <td>8</td>\n",
       "      <td>5</td>\n",
       "      <td>12</td>\n",
       "      <td>8</td>\n",
       "      <td>1</td>\n",
       "      <td>1</td>\n",
       "      <td>2</td>\n",
       "    </tr>\n",
       "    <tr>\n",
       "      <th>8</th>\n",
       "      <td>9</td>\n",
       "      <td>13</td>\n",
       "      <td>28</td>\n",
       "      <td>8</td>\n",
       "      <td>3</td>\n",
       "      <td>1</td>\n",
       "      <td>1</td>\n",
       "    </tr>\n",
       "    <tr>\n",
       "      <th>9</th>\n",
       "      <td>10</td>\n",
       "      <td>12</td>\n",
       "      <td>18</td>\n",
       "      <td>8</td>\n",
       "      <td>3</td>\n",
       "      <td>1</td>\n",
       "      <td>1</td>\n",
       "    </tr>\n",
       "  </tbody>\n",
       "</table>\n",
       "</div>"
      ],
      "text/plain": [
       "   age  time_in_hospital  num_medications  number_diagnoses  insulin  \\\n",
       "0    1                 1                1                 1        1   \n",
       "1    2                 3               18                 9        4   \n",
       "2    3                 2               13                 6        1   \n",
       "3    4                 2               16                 7        4   \n",
       "4    5                 1                8                 5        3   \n",
       "5    6                 3               16                 9        3   \n",
       "6    7                 4               21                 7        3   \n",
       "7    8                 5               12                 8        1   \n",
       "8    9                13               28                 8        3   \n",
       "9   10                12               18                 8        3   \n",
       "\n",
       "   A1Cresult  readmitted  \n",
       "0          1           1  \n",
       "1          1           2  \n",
       "2          1           1  \n",
       "3          1           1  \n",
       "4          1           1  \n",
       "5          1           2  \n",
       "6          1           1  \n",
       "7          1           2  \n",
       "8          1           1  \n",
       "9          1           1  "
      ]
     },
     "execution_count": 39,
     "metadata": {},
     "output_type": "execute_result"
    }
   ],
   "source": [
    "reduced_df.head(10)"
   ]
  },
  {
   "cell_type": "code",
   "execution_count": 41,
   "metadata": {},
   "outputs": [
    {
     "name": "stdout",
     "output_type": "stream",
     "text": [
      "dataset exported ...\n"
     ]
    }
   ],
   "source": [
    "# Export full dataset\n",
    "reduced_df.to_csv('transformed_diabetic_data.csv', index=False)\n",
    "print(\"dataset exported ...\")"
   ]
  },
  {
   "cell_type": "code",
   "execution_count": 42,
   "metadata": {},
   "outputs": [
    {
     "name": "stdout",
     "output_type": "stream",
     "text": [
      "X and y separated ...\n"
     ]
    }
   ],
   "source": [
    "# Separate features (X) and target labels (y)\n",
    "X = reduced_df.drop(columns=['readmitted'])  # Features\n",
    "y = reduced_df['readmitted']  # Target labels\n",
    "print(\"X and y separated ...\")"
   ]
  },
  {
   "cell_type": "code",
   "execution_count": 43,
   "metadata": {},
   "outputs": [
    {
     "name": "stdout",
     "output_type": "stream",
     "text": [
      "Train test split executed ...\n"
     ]
    }
   ],
   "source": [
    "X_train, X_test, y_train, y_test = train_test_split(X, y, test_size=0.2, random_state=42, stratify=y)\n",
    "print(\"Train test split executed ...\")"
   ]
  },
  {
   "cell_type": "code",
   "execution_count": 44,
   "metadata": {},
   "outputs": [
    {
     "name": "stdout",
     "output_type": "stream",
     "text": [
      "Training and Testing Data exported ...\n"
     ]
    }
   ],
   "source": [
    "# Combine the training data and labels\n",
    "train_data = X_train.copy()\n",
    "train_data['readmitted'] = y_train\n",
    "\n",
    "# Combine the testing data and labels\n",
    "test_data = X_test.copy()\n",
    "test_data['readmitted'] = y_test\n",
    "\n",
    "# Export training data to a CSV file\n",
    "train_data.to_csv('transformed_diabetic_data_train.csv', index=False)\n",
    "\n",
    "# Export testing data to a CSV file\n",
    "test_data.to_csv('transformed_diabetic_data_test.csv', index=False)\n",
    "\n",
    "print(\"Training and Testing Data exported ...\")"
   ]
  }
 ],
 "metadata": {
  "kernelspec": {
   "display_name": "base",
   "language": "python",
   "name": "python3"
  },
  "language_info": {
   "codemirror_mode": {
    "name": "ipython",
    "version": 3
   },
   "file_extension": ".py",
   "mimetype": "text/x-python",
   "name": "python",
   "nbconvert_exporter": "python",
   "pygments_lexer": "ipython3",
   "version": "3.11.7"
  }
 },
 "nbformat": 4,
 "nbformat_minor": 2
}
