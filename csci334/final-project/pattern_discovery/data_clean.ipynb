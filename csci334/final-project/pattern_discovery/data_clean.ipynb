{
 "cells": [
  {
   "cell_type": "markdown",
   "metadata": {},
   "source": [
    "# Goal \n",
    "- Given a dataset with 50 features we must reduce it to `7` features including the 2 possible target variables `A1Cresult` and `readmitted`. We must then find `5` more features that can have strong predictive power in determining our desired target. We decided that `7` is a good number because it greatly reducing the number of potential patterns to be discovered without losing information. If we use all 50 it basically will be almost impossible to find the true pattern."
   ]
  },
  {
   "cell_type": "markdown",
   "metadata": {},
   "source": [
    "# About the dataset\n",
    "- The dataset represents ten years (1999-2008) of clinical care at 130 US hospitals and integrated delivery networks. Each row concerns hospital records of patients diagnosed with diabetes, who underwent laboratory, medications, and stayed up to 14 days. The goal is to determine the early readmission of the patient within 30 days of discharge. The problem is important for the following reasons. Despite high-quality evidence showing improved clinical outcomes for diabetic patients who receive various preventive and therapeutic interventions, many patients do not receive them. This can be partially attributed to arbitrary diabetes management in hospital environments, which fail to attend to glycemic control. Failure to provide proper diabetes care not only increases the managing costs for the hospitals (as the patients are readmitted) but also impacts the morbidity and mortality of the patients, who may face complications associated with diabetes."
   ]
  },
  {
   "cell_type": "markdown",
   "metadata": {},
   "source": [
    "### Import Libraries & Data #### "
   ]
  },
  {
   "cell_type": "code",
   "execution_count": 1,
   "metadata": {},
   "outputs": [
    {
     "name": "stdout",
     "output_type": "stream",
     "text": [
      "Libraries imported ....\n"
     ]
    }
   ],
   "source": [
    "import pandas as pd\n",
    "import numpy as np\n",
    "from sklearn.model_selection import train_test_split\n",
    "print(\"Libraries imported ....\")"
   ]
  },
  {
   "cell_type": "code",
   "execution_count": 3,
   "metadata": {},
   "outputs": [
    {
     "name": "stdout",
     "output_type": "stream",
     "text": [
      "data loaded ...\n"
     ]
    }
   ],
   "source": [
    "# Load Data\n",
    "df = pd.read_csv(\"../data/diabetic_data.csv\")\n",
    "print(\"data loaded ...\")"
   ]
  },
  {
   "cell_type": "code",
   "execution_count": 4,
   "metadata": {},
   "outputs": [
    {
     "name": "stdout",
     "output_type": "stream",
     "text": [
      "? -> NaN\n"
     ]
    }
   ],
   "source": [
    "df.replace('?', np.nan, inplace=True)   # Replace all '?' to NaN for easier processing\n",
    "print(\"? -> NaN\")"
   ]
  },
  {
   "cell_type": "code",
   "execution_count": 5,
   "metadata": {},
   "outputs": [
    {
     "data": {
      "text/html": [
       "<div>\n",
       "<style scoped>\n",
       "    .dataframe tbody tr th:only-of-type {\n",
       "        vertical-align: middle;\n",
       "    }\n",
       "\n",
       "    .dataframe tbody tr th {\n",
       "        vertical-align: top;\n",
       "    }\n",
       "\n",
       "    .dataframe thead th {\n",
       "        text-align: right;\n",
       "    }\n",
       "</style>\n",
       "<table border=\"1\" class=\"dataframe\">\n",
       "  <thead>\n",
       "    <tr style=\"text-align: right;\">\n",
       "      <th></th>\n",
       "      <th>encounter_id</th>\n",
       "      <th>patient_nbr</th>\n",
       "      <th>race</th>\n",
       "      <th>gender</th>\n",
       "      <th>age</th>\n",
       "      <th>weight</th>\n",
       "      <th>admission_type_id</th>\n",
       "      <th>discharge_disposition_id</th>\n",
       "      <th>admission_source_id</th>\n",
       "      <th>time_in_hospital</th>\n",
       "      <th>...</th>\n",
       "      <th>citoglipton</th>\n",
       "      <th>insulin</th>\n",
       "      <th>glyburide-metformin</th>\n",
       "      <th>glipizide-metformin</th>\n",
       "      <th>glimepiride-pioglitazone</th>\n",
       "      <th>metformin-rosiglitazone</th>\n",
       "      <th>metformin-pioglitazone</th>\n",
       "      <th>change</th>\n",
       "      <th>diabetesMed</th>\n",
       "      <th>readmitted</th>\n",
       "    </tr>\n",
       "  </thead>\n",
       "  <tbody>\n",
       "    <tr>\n",
       "      <th>0</th>\n",
       "      <td>2278392</td>\n",
       "      <td>8222157</td>\n",
       "      <td>Caucasian</td>\n",
       "      <td>Female</td>\n",
       "      <td>[0-10)</td>\n",
       "      <td>NaN</td>\n",
       "      <td>6</td>\n",
       "      <td>25</td>\n",
       "      <td>1</td>\n",
       "      <td>1</td>\n",
       "      <td>...</td>\n",
       "      <td>No</td>\n",
       "      <td>No</td>\n",
       "      <td>No</td>\n",
       "      <td>No</td>\n",
       "      <td>No</td>\n",
       "      <td>No</td>\n",
       "      <td>No</td>\n",
       "      <td>No</td>\n",
       "      <td>No</td>\n",
       "      <td>NO</td>\n",
       "    </tr>\n",
       "    <tr>\n",
       "      <th>1</th>\n",
       "      <td>149190</td>\n",
       "      <td>55629189</td>\n",
       "      <td>Caucasian</td>\n",
       "      <td>Female</td>\n",
       "      <td>[10-20)</td>\n",
       "      <td>NaN</td>\n",
       "      <td>1</td>\n",
       "      <td>1</td>\n",
       "      <td>7</td>\n",
       "      <td>3</td>\n",
       "      <td>...</td>\n",
       "      <td>No</td>\n",
       "      <td>Up</td>\n",
       "      <td>No</td>\n",
       "      <td>No</td>\n",
       "      <td>No</td>\n",
       "      <td>No</td>\n",
       "      <td>No</td>\n",
       "      <td>Ch</td>\n",
       "      <td>Yes</td>\n",
       "      <td>&gt;30</td>\n",
       "    </tr>\n",
       "    <tr>\n",
       "      <th>2</th>\n",
       "      <td>64410</td>\n",
       "      <td>86047875</td>\n",
       "      <td>AfricanAmerican</td>\n",
       "      <td>Female</td>\n",
       "      <td>[20-30)</td>\n",
       "      <td>NaN</td>\n",
       "      <td>1</td>\n",
       "      <td>1</td>\n",
       "      <td>7</td>\n",
       "      <td>2</td>\n",
       "      <td>...</td>\n",
       "      <td>No</td>\n",
       "      <td>No</td>\n",
       "      <td>No</td>\n",
       "      <td>No</td>\n",
       "      <td>No</td>\n",
       "      <td>No</td>\n",
       "      <td>No</td>\n",
       "      <td>No</td>\n",
       "      <td>Yes</td>\n",
       "      <td>NO</td>\n",
       "    </tr>\n",
       "    <tr>\n",
       "      <th>3</th>\n",
       "      <td>500364</td>\n",
       "      <td>82442376</td>\n",
       "      <td>Caucasian</td>\n",
       "      <td>Male</td>\n",
       "      <td>[30-40)</td>\n",
       "      <td>NaN</td>\n",
       "      <td>1</td>\n",
       "      <td>1</td>\n",
       "      <td>7</td>\n",
       "      <td>2</td>\n",
       "      <td>...</td>\n",
       "      <td>No</td>\n",
       "      <td>Up</td>\n",
       "      <td>No</td>\n",
       "      <td>No</td>\n",
       "      <td>No</td>\n",
       "      <td>No</td>\n",
       "      <td>No</td>\n",
       "      <td>Ch</td>\n",
       "      <td>Yes</td>\n",
       "      <td>NO</td>\n",
       "    </tr>\n",
       "    <tr>\n",
       "      <th>4</th>\n",
       "      <td>16680</td>\n",
       "      <td>42519267</td>\n",
       "      <td>Caucasian</td>\n",
       "      <td>Male</td>\n",
       "      <td>[40-50)</td>\n",
       "      <td>NaN</td>\n",
       "      <td>1</td>\n",
       "      <td>1</td>\n",
       "      <td>7</td>\n",
       "      <td>1</td>\n",
       "      <td>...</td>\n",
       "      <td>No</td>\n",
       "      <td>Steady</td>\n",
       "      <td>No</td>\n",
       "      <td>No</td>\n",
       "      <td>No</td>\n",
       "      <td>No</td>\n",
       "      <td>No</td>\n",
       "      <td>Ch</td>\n",
       "      <td>Yes</td>\n",
       "      <td>NO</td>\n",
       "    </tr>\n",
       "  </tbody>\n",
       "</table>\n",
       "<p>5 rows × 50 columns</p>\n",
       "</div>"
      ],
      "text/plain": [
       "   encounter_id  patient_nbr             race  gender      age weight  \\\n",
       "0       2278392      8222157        Caucasian  Female   [0-10)    NaN   \n",
       "1        149190     55629189        Caucasian  Female  [10-20)    NaN   \n",
       "2         64410     86047875  AfricanAmerican  Female  [20-30)    NaN   \n",
       "3        500364     82442376        Caucasian    Male  [30-40)    NaN   \n",
       "4         16680     42519267        Caucasian    Male  [40-50)    NaN   \n",
       "\n",
       "   admission_type_id  discharge_disposition_id  admission_source_id  \\\n",
       "0                  6                        25                    1   \n",
       "1                  1                         1                    7   \n",
       "2                  1                         1                    7   \n",
       "3                  1                         1                    7   \n",
       "4                  1                         1                    7   \n",
       "\n",
       "   time_in_hospital  ... citoglipton insulin  glyburide-metformin  \\\n",
       "0                 1  ...          No      No                   No   \n",
       "1                 3  ...          No      Up                   No   \n",
       "2                 2  ...          No      No                   No   \n",
       "3                 2  ...          No      Up                   No   \n",
       "4                 1  ...          No  Steady                   No   \n",
       "\n",
       "   glipizide-metformin  glimepiride-pioglitazone  metformin-rosiglitazone  \\\n",
       "0                   No                        No                       No   \n",
       "1                   No                        No                       No   \n",
       "2                   No                        No                       No   \n",
       "3                   No                        No                       No   \n",
       "4                   No                        No                       No   \n",
       "\n",
       "   metformin-pioglitazone  change diabetesMed readmitted  \n",
       "0                      No      No          No         NO  \n",
       "1                      No      Ch         Yes        >30  \n",
       "2                      No      No         Yes         NO  \n",
       "3                      No      Ch         Yes         NO  \n",
       "4                      No      Ch         Yes         NO  \n",
       "\n",
       "[5 rows x 50 columns]"
      ]
     },
     "execution_count": 5,
     "metadata": {},
     "output_type": "execute_result"
    }
   ],
   "source": [
    "df.head(5)\n"
   ]
  },
  {
   "cell_type": "code",
   "execution_count": 6,
   "metadata": {},
   "outputs": [
    {
     "data": {
      "text/plain": [
       "(101766, 50)"
      ]
     },
     "execution_count": 6,
     "metadata": {},
     "output_type": "execute_result"
    }
   ],
   "source": [
    "df.shape"
   ]
  },
  {
   "cell_type": "markdown",
   "metadata": {},
   "source": [
    "# Features to Keep \n",
    "\n",
    "### Potential Targets\n",
    "1. `readmitted`  - This represents whether the patient was readmitted and is directly related to patient outcomes.\n",
    "\n",
    "2. `A1Cresult` - Outcome of the hemoglobin A1c test, which measures the average blood sugar level over the past 2-3 months. It's a key metric for assessing diabetes control.\n",
    "\n",
    "### Additional 5 Features \n",
    "- We've determined that these features have the strongest predictive power on determining if a patient has diabetes. It will give a good glimpse of who the patient is, the severity of their diagnosis, and the complexity of their overall case.\n",
    "\n",
    "3. `age` - Despite age being in a range we believe that age still has strong predictive power on determining 'readmitted' or 'A1Cresult' as the older the person is the more prone to having diabetes.\n",
    "\n",
    "4. `time_in_hospital` - Indicates the length of hospital stay, potentially related to both readmission likelihood and diabetes control. \n",
    "\n",
    "\n",
    "5. `num_medications` - The number of medications prescribed could reflect the severity and complexity of the patient's condition.\n",
    "\n",
    "6. `number_diagnoses` - represents the total number of diagnoses, indicating the complexity of a patients condition.\n",
    "\n",
    "7. `insulin` - a key feature on indicating if someone has diabetes is if they are taking insulin as the prescription is cruicial in diabetes management. This maybe one of the most important features if we were to guess.\n",
    "\n",
    "\n",
    "### Total features = `7`\n",
    "- It also is great that these features have no null values which makes ensures data integrity as this is the true values of the dataset and we won't have to rely on imputation that makes the model less capable of generalizing as the imputation methods usually rely on interpolation.\n",
    "\n"
   ]
  },
  {
   "cell_type": "code",
   "execution_count": 7,
   "metadata": {},
   "outputs": [
    {
     "data": {
      "text/plain": [
       "Index(['encounter_id', 'patient_nbr', 'race', 'gender', 'age', 'weight',\n",
       "       'admission_type_id', 'discharge_disposition_id', 'admission_source_id',\n",
       "       'time_in_hospital', 'payer_code', 'medical_specialty',\n",
       "       'num_lab_procedures', 'num_procedures', 'num_medications',\n",
       "       'number_outpatient', 'number_emergency', 'number_inpatient', 'diag_1',\n",
       "       'diag_2', 'diag_3', 'number_diagnoses', 'max_glu_serum', 'A1Cresult',\n",
       "       'metformin', 'repaglinide', 'nateglinide', 'chlorpropamide',\n",
       "       'glimepiride', 'acetohexamide', 'glipizide', 'glyburide', 'tolbutamide',\n",
       "       'pioglitazone', 'rosiglitazone', 'acarbose', 'miglitol', 'troglitazone',\n",
       "       'tolazamide', 'examide', 'citoglipton', 'insulin',\n",
       "       'glyburide-metformin', 'glipizide-metformin',\n",
       "       'glimepiride-pioglitazone', 'metformin-rosiglitazone',\n",
       "       'metformin-pioglitazone', 'change', 'diabetesMed', 'readmitted'],\n",
       "      dtype='object')"
      ]
     },
     "execution_count": 7,
     "metadata": {},
     "output_type": "execute_result"
    }
   ],
   "source": [
    "df.columns"
   ]
  },
  {
   "cell_type": "code",
   "execution_count": 8,
   "metadata": {},
   "outputs": [
    {
     "name": "stdout",
     "output_type": "stream",
     "text": [
      "Features to keep: ['age', 'time_in_hospital', 'num_medications', 'number_diagnoses', 'insulin', 'A1Cresult', 'readmitted']. Total number of features: 7\n"
     ]
    }
   ],
   "source": [
    "features_to_keep = ['age', 'time_in_hospital', 'num_medications', 'number_diagnoses', 'insulin', 'A1Cresult', 'readmitted']\n",
    "print(f\"Features to keep: {features_to_keep}. Total number of features: {len(features_to_keep)}\")"
   ]
  },
  {
   "cell_type": "code",
   "execution_count": 9,
   "metadata": {},
   "outputs": [
    {
     "name": "stdout",
     "output_type": "stream",
     "text": [
      "Dataframe Reduced ...\n"
     ]
    }
   ],
   "source": [
    "# Reduce dataset\n",
    "reduced_df = df[features_to_keep]\n",
    "print(\"Dataframe Reduced ...\")"
   ]
  },
  {
   "cell_type": "code",
   "execution_count": 10,
   "metadata": {},
   "outputs": [
    {
     "data": {
      "text/html": [
       "<div>\n",
       "<style scoped>\n",
       "    .dataframe tbody tr th:only-of-type {\n",
       "        vertical-align: middle;\n",
       "    }\n",
       "\n",
       "    .dataframe tbody tr th {\n",
       "        vertical-align: top;\n",
       "    }\n",
       "\n",
       "    .dataframe thead th {\n",
       "        text-align: right;\n",
       "    }\n",
       "</style>\n",
       "<table border=\"1\" class=\"dataframe\">\n",
       "  <thead>\n",
       "    <tr style=\"text-align: right;\">\n",
       "      <th></th>\n",
       "      <th>age</th>\n",
       "      <th>time_in_hospital</th>\n",
       "      <th>num_medications</th>\n",
       "      <th>number_diagnoses</th>\n",
       "      <th>insulin</th>\n",
       "      <th>A1Cresult</th>\n",
       "      <th>readmitted</th>\n",
       "    </tr>\n",
       "  </thead>\n",
       "  <tbody>\n",
       "    <tr>\n",
       "      <th>0</th>\n",
       "      <td>[0-10)</td>\n",
       "      <td>1</td>\n",
       "      <td>1</td>\n",
       "      <td>1</td>\n",
       "      <td>No</td>\n",
       "      <td>NaN</td>\n",
       "      <td>NO</td>\n",
       "    </tr>\n",
       "    <tr>\n",
       "      <th>1</th>\n",
       "      <td>[10-20)</td>\n",
       "      <td>3</td>\n",
       "      <td>18</td>\n",
       "      <td>9</td>\n",
       "      <td>Up</td>\n",
       "      <td>NaN</td>\n",
       "      <td>&gt;30</td>\n",
       "    </tr>\n",
       "    <tr>\n",
       "      <th>2</th>\n",
       "      <td>[20-30)</td>\n",
       "      <td>2</td>\n",
       "      <td>13</td>\n",
       "      <td>6</td>\n",
       "      <td>No</td>\n",
       "      <td>NaN</td>\n",
       "      <td>NO</td>\n",
       "    </tr>\n",
       "    <tr>\n",
       "      <th>3</th>\n",
       "      <td>[30-40)</td>\n",
       "      <td>2</td>\n",
       "      <td>16</td>\n",
       "      <td>7</td>\n",
       "      <td>Up</td>\n",
       "      <td>NaN</td>\n",
       "      <td>NO</td>\n",
       "    </tr>\n",
       "    <tr>\n",
       "      <th>4</th>\n",
       "      <td>[40-50)</td>\n",
       "      <td>1</td>\n",
       "      <td>8</td>\n",
       "      <td>5</td>\n",
       "      <td>Steady</td>\n",
       "      <td>NaN</td>\n",
       "      <td>NO</td>\n",
       "    </tr>\n",
       "    <tr>\n",
       "      <th>...</th>\n",
       "      <td>...</td>\n",
       "      <td>...</td>\n",
       "      <td>...</td>\n",
       "      <td>...</td>\n",
       "      <td>...</td>\n",
       "      <td>...</td>\n",
       "      <td>...</td>\n",
       "    </tr>\n",
       "    <tr>\n",
       "      <th>101761</th>\n",
       "      <td>[70-80)</td>\n",
       "      <td>3</td>\n",
       "      <td>16</td>\n",
       "      <td>9</td>\n",
       "      <td>Down</td>\n",
       "      <td>&gt;8</td>\n",
       "      <td>&gt;30</td>\n",
       "    </tr>\n",
       "    <tr>\n",
       "      <th>101762</th>\n",
       "      <td>[80-90)</td>\n",
       "      <td>5</td>\n",
       "      <td>18</td>\n",
       "      <td>9</td>\n",
       "      <td>Steady</td>\n",
       "      <td>NaN</td>\n",
       "      <td>NO</td>\n",
       "    </tr>\n",
       "    <tr>\n",
       "      <th>101763</th>\n",
       "      <td>[70-80)</td>\n",
       "      <td>1</td>\n",
       "      <td>9</td>\n",
       "      <td>13</td>\n",
       "      <td>Down</td>\n",
       "      <td>NaN</td>\n",
       "      <td>NO</td>\n",
       "    </tr>\n",
       "    <tr>\n",
       "      <th>101764</th>\n",
       "      <td>[80-90)</td>\n",
       "      <td>10</td>\n",
       "      <td>21</td>\n",
       "      <td>9</td>\n",
       "      <td>Up</td>\n",
       "      <td>NaN</td>\n",
       "      <td>NO</td>\n",
       "    </tr>\n",
       "    <tr>\n",
       "      <th>101765</th>\n",
       "      <td>[70-80)</td>\n",
       "      <td>6</td>\n",
       "      <td>3</td>\n",
       "      <td>9</td>\n",
       "      <td>No</td>\n",
       "      <td>NaN</td>\n",
       "      <td>NO</td>\n",
       "    </tr>\n",
       "  </tbody>\n",
       "</table>\n",
       "<p>101766 rows × 7 columns</p>\n",
       "</div>"
      ],
      "text/plain": [
       "            age  time_in_hospital  num_medications  number_diagnoses insulin  \\\n",
       "0        [0-10)                 1                1                 1      No   \n",
       "1       [10-20)                 3               18                 9      Up   \n",
       "2       [20-30)                 2               13                 6      No   \n",
       "3       [30-40)                 2               16                 7      Up   \n",
       "4       [40-50)                 1                8                 5  Steady   \n",
       "...         ...               ...              ...               ...     ...   \n",
       "101761  [70-80)                 3               16                 9    Down   \n",
       "101762  [80-90)                 5               18                 9  Steady   \n",
       "101763  [70-80)                 1                9                13    Down   \n",
       "101764  [80-90)                10               21                 9      Up   \n",
       "101765  [70-80)                 6                3                 9      No   \n",
       "\n",
       "       A1Cresult readmitted  \n",
       "0            NaN         NO  \n",
       "1            NaN        >30  \n",
       "2            NaN         NO  \n",
       "3            NaN         NO  \n",
       "4            NaN         NO  \n",
       "...          ...        ...  \n",
       "101761        >8        >30  \n",
       "101762       NaN         NO  \n",
       "101763       NaN         NO  \n",
       "101764       NaN         NO  \n",
       "101765       NaN         NO  \n",
       "\n",
       "[101766 rows x 7 columns]"
      ]
     },
     "execution_count": 10,
     "metadata": {},
     "output_type": "execute_result"
    }
   ],
   "source": [
    "reduced_df"
   ]
  },
  {
   "cell_type": "code",
   "execution_count": 11,
   "metadata": {},
   "outputs": [
    {
     "name": "stdout",
     "output_type": "stream",
     "text": [
      "                  Total Nulls  Percentage Null\n",
      "A1Cresult               84748        83.277322\n",
      "age                         0         0.000000\n",
      "time_in_hospital            0         0.000000\n",
      "num_medications             0         0.000000\n",
      "number_diagnoses            0         0.000000\n",
      "insulin                     0         0.000000\n",
      "readmitted                  0         0.000000\n"
     ]
    }
   ],
   "source": [
    "# Generate a null values report\n",
    "null_report = pd.DataFrame({\n",
    "    'Total Nulls': reduced_df.isnull().sum(),\n",
    "    'Percentage Null': (reduced_df.isnull().mean() * 100)\n",
    "}).sort_values(by='Total Nulls', ascending=False)\n",
    "\n",
    "print(null_report)\n"
   ]
  },
  {
   "cell_type": "markdown",
   "metadata": {},
   "source": [
    "This is great, we have no null values. A1Cresult seems like there are a lot of null values but that is intentional as having no result means that maybe the test was not even ordered as the case may not be as serious. "
   ]
  },
  {
   "cell_type": "markdown",
   "metadata": {},
   "source": [
    "### Feature transformation"
   ]
  },
  {
   "cell_type": "markdown",
   "metadata": {},
   "source": [
    "## age <br>\n",
    "Possible Values: 10 possible values. The ages aren't specific and have been turned into bins. We will convert them into numerical bins as it would be easier to process these values computationally if they were integers. <br>\n",
    "- [0-10)  -> 0\n",
    "- [10-20)  -> 1\n",
    "- [20-30) -> 2\n",
    "- [30-40) -> 3\n",
    "- [40-50) -> 4\n",
    "- [50-60) -> 5\n",
    "- [60-70) -> 6\n",
    "- [70-80) -> 7\n",
    "- [80-90) -> 8\n",
    "- [90-100) -> 9"
   ]
  },
  {
   "cell_type": "code",
   "execution_count": 12,
   "metadata": {},
   "outputs": [
    {
     "data": {
      "text/plain": [
       "array(['[0-10)', '[10-20)', '[20-30)', '[30-40)', '[40-50)', '[50-60)',\n",
       "       '[60-70)', '[70-80)', '[80-90)', '[90-100)'], dtype=object)"
      ]
     },
     "execution_count": 12,
     "metadata": {},
     "output_type": "execute_result"
    }
   ],
   "source": [
    "reduced_df['age'].unique()"
   ]
  },
  {
   "cell_type": "code",
   "execution_count": 13,
   "metadata": {},
   "outputs": [
    {
     "name": "stderr",
     "output_type": "stream",
     "text": [
      "C:\\Users\\usflo\\AppData\\Local\\Temp\\ipykernel_17796\\65020901.py:16: FutureWarning: Downcasting behavior in `replace` is deprecated and will be removed in a future version. To retain the old behavior, explicitly call `result.infer_objects(copy=False)`. To opt-in to the future behavior, set `pd.set_option('future.no_silent_downcasting', True)`\n",
      "  reduced_df['age'] = reduced_df['age'].replace(age_mapping)\n",
      "C:\\Users\\usflo\\AppData\\Local\\Temp\\ipykernel_17796\\65020901.py:16: SettingWithCopyWarning: \n",
      "A value is trying to be set on a copy of a slice from a DataFrame.\n",
      "Try using .loc[row_indexer,col_indexer] = value instead\n",
      "\n",
      "See the caveats in the documentation: https://pandas.pydata.org/pandas-docs/stable/user_guide/indexing.html#returning-a-view-versus-a-copy\n",
      "  reduced_df['age'] = reduced_df['age'].replace(age_mapping)\n"
     ]
    }
   ],
   "source": [
    "# Define the mapping from age bins to integers\n",
    "age_mapping = {\n",
    "    '[0-10)': 0,\n",
    "    '[10-20)': 1,\n",
    "    '[20-30)': 2,\n",
    "    '[30-40)': 3,\n",
    "    '[40-50)': 4,\n",
    "    '[50-60)': 5,\n",
    "    '[60-70)': 6,\n",
    "    '[70-80)': 7,\n",
    "    '[80-90)': 8,\n",
    "    '[90-100)': 9\n",
    "}\n",
    "\n",
    "# Replace age bins with integers in the DataFrame\n",
    "reduced_df['age'] = reduced_df['age'].replace(age_mapping)"
   ]
  },
  {
   "cell_type": "code",
   "execution_count": 14,
   "metadata": {},
   "outputs": [
    {
     "data": {
      "text/plain": [
       "array([0, 1, 2, 3, 4, 5, 6, 7, 8, 9], dtype=int64)"
      ]
     },
     "execution_count": 14,
     "metadata": {},
     "output_type": "execute_result"
    }
   ],
   "source": [
    "reduced_df['age'].unique()"
   ]
  },
  {
   "cell_type": "code",
   "execution_count": 49,
   "metadata": {},
   "outputs": [
    {
     "name": "stdout",
     "output_type": "stream",
     "text": [
      "Optimal bin size for age: 9\n",
      "Bins for age: [(1.0, 2.0), (2.0, 3.0), (3.0, 5.0), (5.0, 7.0), (7.0, 8.0), (8.0, 9.0), (9.0, 10.5), (10.5, 13.0)]\n"
     ]
    }
   ],
   "source": [
    "from methods import find_optimal_bin_size, discretize_continuous_variables\n",
    "age_values = [ 1,  3,  2,  4,  5, 13, 12,  9,  7, 10,  6, 11,  8, 14]\n",
    "age_optimal_bin_size = find_optimal_bin_size(age_values)\n",
    "print(f\"Optimal bin size for age: {age_optimal_bin_size}\")\n",
    "age_output = discretize_continuous_variables(age_values, age_optimal_bin_size)\n",
    "print(f\"Bins for age: {age_output['bin_edges']}\")"
   ]
  },
  {
   "cell_type": "markdown",
   "metadata": {},
   "source": [
    "### Discretization of Continous variables\n",
    "- Find optimal number of bins by clustering using kmeans and finding and extracting optimal values by using the elbow method\n",
    "\n",
    "#### Steps:\n",
    "1. Find unique values\n",
    "2. Find optimal number of bins\n",
    "3. perform discretization\n",
    "4. convert values in the dataset"
   ]
  },
  {
   "cell_type": "code",
   "execution_count": 16,
   "metadata": {},
   "outputs": [],
   "source": [
    "from methods import find_optimal_bin_size, discretize_continuous_variables # custom implementation of discretization"
   ]
  },
  {
   "cell_type": "markdown",
   "metadata": {},
   "source": [
    "## time_in_hospital <br>"
   ]
  },
  {
   "cell_type": "code",
   "execution_count": 20,
   "metadata": {},
   "outputs": [
    {
     "name": "stdout",
     "output_type": "stream",
     "text": [
      "Total number of unique values: 14\n"
     ]
    },
    {
     "data": {
      "text/plain": [
       "array([ 1,  3,  2,  4,  5, 13, 12,  9,  7, 10,  6, 11,  8, 14],\n",
       "      dtype=int64)"
      ]
     },
     "execution_count": 20,
     "metadata": {},
     "output_type": "execute_result"
    }
   ],
   "source": [
    "print(f\"Total number of unique values: {len(reduced_df['time_in_hospital'].unique())}\")\n",
    "reduced_df['time_in_hospital'].unique()"
   ]
  },
  {
   "cell_type": "code",
   "execution_count": 17,
   "metadata": {},
   "outputs": [
    {
     "name": "stdout",
     "output_type": "stream",
     "text": [
      "Optimal bin size for time_in_hospital: 9\n",
      "Bins for time_in_hospital: [(1.0, 2.0), (2.0, 3.0), (3.0, 5.0), (5.0, 7.0), (7.0, 8.0), (8.0, 9.0), (9.0, 10.5), (10.5, 13.0)]\n"
     ]
    }
   ],
   "source": [
    "time_in_hospital_values = [ 1,  3,  2,  4,  5, 13, 12,  9,  7, 10,  6, 11,  8, 14]\n",
    "time_in_hospital_optimal_bin_size = find_optimal_bin_size(time_in_hospital_values)\n",
    "print(f\"Optimal bin size for time_in_hospital: {time_in_hospital_optimal_bin_size}\")\n",
    "time_in_hospital_output = discretize_continuous_variables(time_in_hospital_values, time_in_hospital_optimal_bin_size)\n",
    "print(f\"Bins for time_in_hospital: {time_in_hospital_output['bin_edges']}\")"
   ]
  },
  {
   "cell_type": "code",
   "execution_count": 21,
   "metadata": {},
   "outputs": [
    {
     "name": "stdout",
     "output_type": "stream",
     "text": [
      "Hospital Values Binned ...\n"
     ]
    },
    {
     "name": "stderr",
     "output_type": "stream",
     "text": [
      "C:\\Users\\usflo\\AppData\\Local\\Temp\\ipykernel_17796\\945696650.py:39: SettingWithCopyWarning: \n",
      "A value is trying to be set on a copy of a slice from a DataFrame.\n",
      "Try using .loc[row_indexer,col_indexer] = value instead\n",
      "\n",
      "See the caveats in the documentation: https://pandas.pydata.org/pandas-docs/stable/user_guide/indexing.html#returning-a-view-versus-a-copy\n",
      "  reduced_df['time_in_hospital'] = reduced_df['time_in_hospital'].apply(map_time_in_hospital)\n"
     ]
    }
   ],
   "source": [
    "# Define the mapping for time_in_hospital bins\n",
    "time_in_hospital_mapping = {\n",
    "    '(1.0, 2.0)': 0,\n",
    "    '(2.0, 3.0)': 1,\n",
    "    '(3.0, 5.0)': 2,\n",
    "    '(5.0, 7.0)': 3,\n",
    "    '(7.0, 8.0)': 4,\n",
    "    '(8.0, 9.0)': 5,\n",
    "    '(9.0, 10.5)': 6,\n",
    "    '(10.5, 13.0)': 7,\n",
    "    'below': -1,   # Special case for values below 1.0\n",
    "    'above': 8     # Special case for values above 13.0\n",
    "}\n",
    "\n",
    "# Replace time_in_hospital with integers in the DataFrame\n",
    "def map_time_in_hospital(value):\n",
    "    if value < 1.0:\n",
    "        return time_in_hospital_mapping['below']\n",
    "    elif value >= 13.0:\n",
    "        return time_in_hospital_mapping['above']\n",
    "    elif 1.0 <= value < 2.0:\n",
    "        return time_in_hospital_mapping['(1.0, 2.0)']\n",
    "    elif 2.0 <= value < 3.0:\n",
    "        return time_in_hospital_mapping['(2.0, 3.0)']\n",
    "    elif 3.0 <= value < 5.0:\n",
    "        return time_in_hospital_mapping['(3.0, 5.0)']\n",
    "    elif 5.0 <= value < 7.0:\n",
    "        return time_in_hospital_mapping['(5.0, 7.0)']\n",
    "    elif 7.0 <= value < 8.0:\n",
    "        return time_in_hospital_mapping['(7.0, 8.0)']\n",
    "    elif 8.0 <= value < 9.0:\n",
    "        return time_in_hospital_mapping['(8.0, 9.0)']\n",
    "    elif 9.0 <= value < 10.5:\n",
    "        return time_in_hospital_mapping['(9.0, 10.5)']\n",
    "    elif 10.5 <= value < 13.0:\n",
    "        return time_in_hospital_mapping['(10.5, 13.0)']\n",
    "\n",
    "# Apply the mapping\n",
    "reduced_df['time_in_hospital'] = reduced_df['time_in_hospital'].apply(map_time_in_hospital)\n",
    "print(\"Hospital Values Binned ...\")"
   ]
  },
  {
   "cell_type": "code",
   "execution_count": 25,
   "metadata": {},
   "outputs": [
    {
     "data": {
      "text/plain": [
       "array([0, 2, 1, 3, 8, 7, 6, 4, 5], dtype=int64)"
      ]
     },
     "execution_count": 25,
     "metadata": {},
     "output_type": "execute_result"
    }
   ],
   "source": [
    "# Validate\n",
    "reduced_df['time_in_hospital'].unique()"
   ]
  },
  {
   "cell_type": "markdown",
   "metadata": {},
   "source": [
    "## num_medications <br>\n"
   ]
  },
  {
   "cell_type": "code",
   "execution_count": 23,
   "metadata": {},
   "outputs": [
    {
     "name": "stdout",
     "output_type": "stream",
     "text": [
      "Total number of unique values: 75\n"
     ]
    },
    {
     "data": {
      "text/plain": [
       "array([ 1, 18, 13, 16,  8, 21, 12, 28, 17, 11, 15, 31,  2, 23, 19,  7, 20,\n",
       "       14, 10, 22,  9, 27, 25,  4, 32,  6, 30, 26, 24, 33,  5, 39,  3, 29,\n",
       "       61, 40, 46, 41, 36, 34, 35, 50, 43, 42, 37, 51, 38, 45, 54, 52, 49,\n",
       "       62, 55, 47, 44, 53, 48, 57, 59, 56, 60, 63, 58, 70, 67, 64, 69, 65,\n",
       "       68, 66, 81, 79, 75, 72, 74], dtype=int64)"
      ]
     },
     "execution_count": 23,
     "metadata": {},
     "output_type": "execute_result"
    }
   ],
   "source": [
    "print(f\"Total number of unique values: {len(reduced_df['num_medications'].unique())}\")\n",
    "reduced_df['num_medications'].unique()"
   ]
  },
  {
   "cell_type": "code",
   "execution_count": 24,
   "metadata": {},
   "outputs": [
    {
     "name": "stdout",
     "output_type": "stream",
     "text": [
      "Optimal bin size for num_medications: 2\n",
      "Bins for num_medications: [(19.499999999999993, 57.432432432432435)]\n"
     ]
    }
   ],
   "source": [
    "num_medications_values = [ 1, 18, 13, 16,  8, 21, 12, 28, 17, 11, 15, 31,  2, 23, 19,  7, 20,\n",
    "       14, 10, 22,  9, 27, 25,  4, 32,  6, 30, 26, 24, 33,  5, 39,  3, 29,\n",
    "       61, 40, 46, 41, 36, 34, 35, 50, 43, 42, 37, 51, 38, 45, 54, 52, 49,\n",
    "       62, 55, 47, 44, 53, 48, 57, 59, 56, 60, 63, 58, 70, 67, 64, 69, 65,\n",
    "       68, 66, 81, 79, 75, 72, 74]\n",
    "\n",
    "num_medications_optimal_bin_size = find_optimal_bin_size(num_medications_values)\n",
    "print(f\"Optimal bin size for num_medications: {num_medications_optimal_bin_size}\")\n",
    "num_medications_output = discretize_continuous_variables(num_medications_values, num_medications_optimal_bin_size)\n",
    "print(f\"Bins for num_medications: {num_medications_output['bin_edges']}\")"
   ]
  },
  {
   "cell_type": "code",
   "execution_count": 27,
   "metadata": {},
   "outputs": [
    {
     "name": "stderr",
     "output_type": "stream",
     "text": [
      "C:\\Users\\usflo\\AppData\\Local\\Temp\\ipykernel_17796\\1201195294.py:18: SettingWithCopyWarning: \n",
      "A value is trying to be set on a copy of a slice from a DataFrame.\n",
      "Try using .loc[row_indexer,col_indexer] = value instead\n",
      "\n",
      "See the caveats in the documentation: https://pandas.pydata.org/pandas-docs/stable/user_guide/indexing.html#returning-a-view-versus-a-copy\n",
      "  reduced_df['num_medications'] = reduced_df['num_medications'].apply(map_num_medications)\n"
     ]
    }
   ],
   "source": [
    "# Define the mapping for num_medications bins\n",
    "num_medications_mapping = {\n",
    "    '(19.5, 57.4)': 0,   # Single bin\n",
    "    'below': -1,         # Special case for values below 19.5\n",
    "    'above': 1           # Special case for values above 57.4\n",
    "}\n",
    "\n",
    "# Replace num_medications with integers in the DataFrame\n",
    "def map_num_medications(value):\n",
    "    if value < 19.5:\n",
    "        return num_medications_mapping['below']\n",
    "    elif value > 57.4:\n",
    "        return num_medications_mapping['above']\n",
    "    else:  # value is between 19.5 and 57.4\n",
    "        return num_medications_mapping['(19.5, 57.4)']\n",
    "\n",
    "# Apply the mapping\n",
    "reduced_df['num_medications'] = reduced_df['num_medications'].apply(map_num_medications)\n"
   ]
  },
  {
   "cell_type": "code",
   "execution_count": 28,
   "metadata": {},
   "outputs": [
    {
     "data": {
      "text/plain": [
       "array([-1,  0,  1], dtype=int64)"
      ]
     },
     "execution_count": 28,
     "metadata": {},
     "output_type": "execute_result"
    }
   ],
   "source": [
    "# Validate\n",
    "reduced_df['num_medications'].unique()"
   ]
  },
  {
   "cell_type": "markdown",
   "metadata": {},
   "source": [
    "## number_diagnoses <br>"
   ]
  },
  {
   "cell_type": "code",
   "execution_count": 29,
   "metadata": {},
   "outputs": [
    {
     "name": "stdout",
     "output_type": "stream",
     "text": [
      "Total number of unique values: 16\n"
     ]
    },
    {
     "data": {
      "text/plain": [
       "array([ 1,  9,  6,  7,  5,  8,  3,  4,  2, 16, 12, 13, 15, 10, 11, 14],\n",
       "      dtype=int64)"
      ]
     },
     "execution_count": 29,
     "metadata": {},
     "output_type": "execute_result"
    }
   ],
   "source": [
    "print(f\"Total number of unique values: {len(reduced_df['number_diagnoses'].unique())}\")\n",
    "reduced_df['number_diagnoses'].unique()"
   ]
  },
  {
   "cell_type": "code",
   "execution_count": 30,
   "metadata": {},
   "outputs": [
    {
     "name": "stdout",
     "output_type": "stream",
     "text": [
      "Optimal bin size for number_diagnoses: 5\n",
      "Bins for number_diagnoses: [(2.5, 7.0), (7.0, 11.0), (11.0, 13.5), (13.5, 15.5)]\n"
     ]
    }
   ],
   "source": [
    "number_diagnoses_values = [ 1,  9,  6,  7,  5,  8,  3,  4,  2, 16, 12, 13, 15, 10, 11, 14]\n",
    "\n",
    "number_diagnoses_optimal_bin_size = find_optimal_bin_size(number_diagnoses_values)\n",
    "print(f\"Optimal bin size for number_diagnoses: {number_diagnoses_optimal_bin_size}\")\n",
    "number_diagnoses_output = discretize_continuous_variables(number_diagnoses_values, number_diagnoses_optimal_bin_size)\n",
    "print(f\"Bins for number_diagnoses: {number_diagnoses_output['bin_edges']}\")"
   ]
  },
  {
   "cell_type": "code",
   "execution_count": 31,
   "metadata": {},
   "outputs": [
    {
     "name": "stderr",
     "output_type": "stream",
     "text": [
      "C:\\Users\\usflo\\AppData\\Local\\Temp\\ipykernel_17796\\2691866847.py:27: SettingWithCopyWarning: \n",
      "A value is trying to be set on a copy of a slice from a DataFrame.\n",
      "Try using .loc[row_indexer,col_indexer] = value instead\n",
      "\n",
      "See the caveats in the documentation: https://pandas.pydata.org/pandas-docs/stable/user_guide/indexing.html#returning-a-view-versus-a-copy\n",
      "  reduced_df['number_diagnoses'] = reduced_df['number_diagnoses'].apply(map_number_diagnoses)\n"
     ]
    }
   ],
   "source": [
    "# Define the mapping for number_diagnoses bins\n",
    "number_diagnoses_mapping = {\n",
    "    '(2.5, 7.0)': 0,\n",
    "    '(7.0, 11.0)': 1,\n",
    "    '(11.0, 13.5)': 2,\n",
    "    '(13.5, 15.5)': 3,\n",
    "    'below': -1,         # Special case for values below 2.5\n",
    "    'above': 4           # Special case for values above 15.5\n",
    "}\n",
    "\n",
    "# Replace number_diagnoses with integers in the DataFrame\n",
    "def map_number_diagnoses(value):\n",
    "    if value < 2.5:\n",
    "        return number_diagnoses_mapping['below']\n",
    "    elif 2.5 <= value < 7.0:\n",
    "        return number_diagnoses_mapping['(2.5, 7.0)']\n",
    "    elif 7.0 <= value < 11.0:\n",
    "        return number_diagnoses_mapping['(7.0, 11.0)']\n",
    "    elif 11.0 <= value < 13.5:\n",
    "        return number_diagnoses_mapping['(11.0, 13.5)']\n",
    "    elif 13.5 <= value < 15.5:\n",
    "        return number_diagnoses_mapping['(13.5, 15.5)']\n",
    "    else:  # value is above 15.5\n",
    "        return number_diagnoses_mapping['above']\n",
    "\n",
    "# Apply the mapping\n",
    "reduced_df['number_diagnoses'] = reduced_df['number_diagnoses'].apply(map_number_diagnoses)\n"
   ]
  },
  {
   "cell_type": "code",
   "execution_count": 32,
   "metadata": {},
   "outputs": [
    {
     "data": {
      "text/plain": [
       "array([-1,  1,  0,  4,  2,  3], dtype=int64)"
      ]
     },
     "execution_count": 32,
     "metadata": {},
     "output_type": "execute_result"
    }
   ],
   "source": [
    "# Validate\n",
    "reduced_df['number_diagnoses'].unique()"
   ]
  },
  {
   "cell_type": "markdown",
   "metadata": {},
   "source": [
    "## insulin <br>\n",
    "\n",
    "- `No` - No insulin was prescribed or administered. \n",
    "- `Down` - Indicates a decrease in the insulin dosage.\n",
    "- `Steady` - Indicates that the insulin dosage remained consistent.\n",
    "- `Up` - Indicates an increase in the insulin dosage.\n",
    "<br>\n",
    "-  Modification we convert these into numerical bins as well with the mapping them into integers."
   ]
  },
  {
   "cell_type": "code",
   "execution_count": 33,
   "metadata": {},
   "outputs": [
    {
     "data": {
      "text/plain": [
       "array(['No', 'Up', 'Steady', 'Down'], dtype=object)"
      ]
     },
     "execution_count": 33,
     "metadata": {},
     "output_type": "execute_result"
    }
   ],
   "source": [
    "reduced_df['insulin'].unique()"
   ]
  },
  {
   "cell_type": "code",
   "execution_count": 34,
   "metadata": {},
   "outputs": [
    {
     "name": "stdout",
     "output_type": "stream",
     "text": [
      "Insulin has been mapped ...\n"
     ]
    },
    {
     "name": "stderr",
     "output_type": "stream",
     "text": [
      "C:\\Users\\usflo\\AppData\\Local\\Temp\\ipykernel_17796\\3539620594.py:10: FutureWarning: Downcasting behavior in `replace` is deprecated and will be removed in a future version. To retain the old behavior, explicitly call `result.infer_objects(copy=False)`. To opt-in to the future behavior, set `pd.set_option('future.no_silent_downcasting', True)`\n",
      "  reduced_df['insulin'] = reduced_df['insulin'].replace(insulin_mapping)\n",
      "C:\\Users\\usflo\\AppData\\Local\\Temp\\ipykernel_17796\\3539620594.py:10: SettingWithCopyWarning: \n",
      "A value is trying to be set on a copy of a slice from a DataFrame.\n",
      "Try using .loc[row_indexer,col_indexer] = value instead\n",
      "\n",
      "See the caveats in the documentation: https://pandas.pydata.org/pandas-docs/stable/user_guide/indexing.html#returning-a-view-versus-a-copy\n",
      "  reduced_df['insulin'] = reduced_df['insulin'].replace(insulin_mapping)\n"
     ]
    }
   ],
   "source": [
    "# Define the mapping for insulin\n",
    "insulin_mapping = {\n",
    "    'No': 0,      # Map 'No' to 1\n",
    "    'Down': 1,    # Map 'Down' to 2\n",
    "    'Steady': 2,  # Map 'Steady' to 3\n",
    "    'Up': 3       # Map 'Up' to 4\n",
    "}\n",
    "\n",
    "# Replace insulin values with the mapping in the DataFrame\n",
    "reduced_df['insulin'] = reduced_df['insulin'].replace(insulin_mapping)\n",
    "\n",
    "print(\"Insulin has been mapped ...\")"
   ]
  },
  {
   "cell_type": "code",
   "execution_count": 35,
   "metadata": {},
   "outputs": [
    {
     "data": {
      "text/plain": [
       "array([0, 3, 2, 1], dtype=int64)"
      ]
     },
     "execution_count": 35,
     "metadata": {},
     "output_type": "execute_result"
    }
   ],
   "source": [
    "reduced_df['insulin'].unique()"
   ]
  },
  {
   "cell_type": "markdown",
   "metadata": {},
   "source": [
    "## A1Cresult <br>\n",
    "- `>8` : This suggests the patient has consistently high blood glucose levels over time and may require adjustments to their diabetes management plan, such as changes to medication, diet, or lifestyle.\n",
    "\n",
    "- `>7` : This level suggests the patient is managing their blood sugar better than >8 but still may not meet the recommended target range for A1c..\n",
    "\n",
    "- `Norm` : The patient has good blood sugar control, likely meeting the target set by their healthcare provider.\n",
    "\n",
    "- `nan` : This means the test wasn't conducted or results are unavailable, so no inference about long-term blood sugar control can be made. This may imply that the tests were not needed making the case less complicated.\n",
    "\n",
    "\n",
    "- The modification will be to convert the unique values into numerical values so that we can process the data easier."
   ]
  },
  {
   "cell_type": "code",
   "execution_count": 36,
   "metadata": {},
   "outputs": [
    {
     "data": {
      "text/plain": [
       "array([nan, '>7', '>8', 'Norm'], dtype=object)"
      ]
     },
     "execution_count": 36,
     "metadata": {},
     "output_type": "execute_result"
    }
   ],
   "source": [
    "reduced_df['A1Cresult'].unique()"
   ]
  },
  {
   "cell_type": "code",
   "execution_count": 37,
   "metadata": {},
   "outputs": [
    {
     "name": "stdout",
     "output_type": "stream",
     "text": [
      "Mapped A1Cresult ...\n"
     ]
    },
    {
     "name": "stderr",
     "output_type": "stream",
     "text": [
      "C:\\Users\\usflo\\AppData\\Local\\Temp\\ipykernel_17796\\3974818990.py:10: FutureWarning: Downcasting behavior in `replace` is deprecated and will be removed in a future version. To retain the old behavior, explicitly call `result.infer_objects(copy=False)`. To opt-in to the future behavior, set `pd.set_option('future.no_silent_downcasting', True)`\n",
      "  reduced_df['A1Cresult'] = reduced_df['A1Cresult'].replace(a1c_mapping)\n",
      "C:\\Users\\usflo\\AppData\\Local\\Temp\\ipykernel_17796\\3974818990.py:10: SettingWithCopyWarning: \n",
      "A value is trying to be set on a copy of a slice from a DataFrame.\n",
      "Try using .loc[row_indexer,col_indexer] = value instead\n",
      "\n",
      "See the caveats in the documentation: https://pandas.pydata.org/pandas-docs/stable/user_guide/indexing.html#returning-a-view-versus-a-copy\n",
      "  reduced_df['A1Cresult'] = reduced_df['A1Cresult'].replace(a1c_mapping)\n"
     ]
    }
   ],
   "source": [
    "# Define the mapping for A1Cresult\n",
    "a1c_mapping = {\n",
    "    np.nan: 0,  # Map NaN to 1\n",
    "    'Norm': 1,  # Map 'Norm' to 2\n",
    "    '>7': 2,    # Map '>7' to 3\n",
    "    '>8': 3     # Map '>8' to 4\n",
    "}\n",
    "\n",
    "# Replace A1Cresult values with the mapping in the DataFrame\n",
    "reduced_df['A1Cresult'] = reduced_df['A1Cresult'].replace(a1c_mapping)\n",
    "print(\"Mapped A1Cresult ...\")"
   ]
  },
  {
   "cell_type": "code",
   "execution_count": 38,
   "metadata": {},
   "outputs": [
    {
     "data": {
      "text/plain": [
       "array([0, 2, 3, 1], dtype=int64)"
      ]
     },
     "execution_count": 38,
     "metadata": {},
     "output_type": "execute_result"
    }
   ],
   "source": [
    "reduced_df['A1Cresult'].unique()"
   ]
  },
  {
   "cell_type": "markdown",
   "metadata": {},
   "source": [
    "## readmitted <br>\n",
    "- NO - patient has not been readmitted back within the time of the study\n",
    "- `>30` - Patient was readmitted after a month\n",
    "- `<30` - Patient was readmitted within a month\n",
    "<br>\n",
    "\n",
    "- similar to what we've done before we just map this into numerical integers as well"
   ]
  },
  {
   "cell_type": "code",
   "execution_count": 39,
   "metadata": {},
   "outputs": [
    {
     "data": {
      "text/plain": [
       "array(['NO', '>30', '<30'], dtype=object)"
      ]
     },
     "execution_count": 39,
     "metadata": {},
     "output_type": "execute_result"
    }
   ],
   "source": [
    "reduced_df['readmitted'].unique()"
   ]
  },
  {
   "cell_type": "code",
   "execution_count": 40,
   "metadata": {},
   "outputs": [
    {
     "name": "stdout",
     "output_type": "stream",
     "text": [
      "readmitted has been mapped ...\n"
     ]
    },
    {
     "name": "stderr",
     "output_type": "stream",
     "text": [
      "C:\\Users\\usflo\\AppData\\Local\\Temp\\ipykernel_17796\\2453240651.py:9: FutureWarning: Downcasting behavior in `replace` is deprecated and will be removed in a future version. To retain the old behavior, explicitly call `result.infer_objects(copy=False)`. To opt-in to the future behavior, set `pd.set_option('future.no_silent_downcasting', True)`\n",
      "  reduced_df['readmitted'] = reduced_df['readmitted'].replace(readmitted_mapping)\n",
      "C:\\Users\\usflo\\AppData\\Local\\Temp\\ipykernel_17796\\2453240651.py:9: SettingWithCopyWarning: \n",
      "A value is trying to be set on a copy of a slice from a DataFrame.\n",
      "Try using .loc[row_indexer,col_indexer] = value instead\n",
      "\n",
      "See the caveats in the documentation: https://pandas.pydata.org/pandas-docs/stable/user_guide/indexing.html#returning-a-view-versus-a-copy\n",
      "  reduced_df['readmitted'] = reduced_df['readmitted'].replace(readmitted_mapping)\n"
     ]
    }
   ],
   "source": [
    "# Define the mapping for readmitted\n",
    "readmitted_mapping = {\n",
    "    'NO': 0,     # Map 'NO' to 1\n",
    "    '>30': 1,    # Map '>30' to 2\n",
    "    '<30': 2     # Map '<30' to 3\n",
    "}\n",
    "\n",
    "# Replace readmitted values with the mapping in the DataFrame\n",
    "reduced_df['readmitted'] = reduced_df['readmitted'].replace(readmitted_mapping)\n",
    "\n",
    "print(\"readmitted has been mapped ...\")\n"
   ]
  },
  {
   "cell_type": "code",
   "execution_count": 41,
   "metadata": {},
   "outputs": [
    {
     "data": {
      "text/plain": [
       "array([0, 1, 2], dtype=int64)"
      ]
     },
     "execution_count": 41,
     "metadata": {},
     "output_type": "execute_result"
    }
   ],
   "source": [
    "reduced_df['readmitted'].unique()"
   ]
  },
  {
   "cell_type": "markdown",
   "metadata": {},
   "source": [
    "# Train-test-split\n",
    "- Our data has been fully preprocessed and transformed and is ready to be used for modeling. To turn this into a supervised learning task we must assing X (our features) and Y(our target) and split the data. We are opting in for a 80-train, 20-test, split or the default as there are `101,766` rows which is plenty to train on to evaluate on."
   ]
  },
  {
   "cell_type": "code",
   "execution_count": 44,
   "metadata": {},
   "outputs": [
    {
     "data": {
      "text/html": [
       "<div>\n",
       "<style scoped>\n",
       "    .dataframe tbody tr th:only-of-type {\n",
       "        vertical-align: middle;\n",
       "    }\n",
       "\n",
       "    .dataframe tbody tr th {\n",
       "        vertical-align: top;\n",
       "    }\n",
       "\n",
       "    .dataframe thead th {\n",
       "        text-align: right;\n",
       "    }\n",
       "</style>\n",
       "<table border=\"1\" class=\"dataframe\">\n",
       "  <thead>\n",
       "    <tr style=\"text-align: right;\">\n",
       "      <th></th>\n",
       "      <th>age</th>\n",
       "      <th>time_in_hospital</th>\n",
       "      <th>num_medications</th>\n",
       "      <th>number_diagnoses</th>\n",
       "      <th>insulin</th>\n",
       "      <th>A1Cresult</th>\n",
       "      <th>readmitted</th>\n",
       "    </tr>\n",
       "  </thead>\n",
       "  <tbody>\n",
       "    <tr>\n",
       "      <th>0</th>\n",
       "      <td>0</td>\n",
       "      <td>0</td>\n",
       "      <td>-1</td>\n",
       "      <td>-1</td>\n",
       "      <td>0</td>\n",
       "      <td>0</td>\n",
       "      <td>0</td>\n",
       "    </tr>\n",
       "    <tr>\n",
       "      <th>1</th>\n",
       "      <td>1</td>\n",
       "      <td>2</td>\n",
       "      <td>-1</td>\n",
       "      <td>1</td>\n",
       "      <td>3</td>\n",
       "      <td>0</td>\n",
       "      <td>1</td>\n",
       "    </tr>\n",
       "    <tr>\n",
       "      <th>2</th>\n",
       "      <td>2</td>\n",
       "      <td>1</td>\n",
       "      <td>-1</td>\n",
       "      <td>0</td>\n",
       "      <td>0</td>\n",
       "      <td>0</td>\n",
       "      <td>0</td>\n",
       "    </tr>\n",
       "    <tr>\n",
       "      <th>3</th>\n",
       "      <td>3</td>\n",
       "      <td>1</td>\n",
       "      <td>-1</td>\n",
       "      <td>1</td>\n",
       "      <td>3</td>\n",
       "      <td>0</td>\n",
       "      <td>0</td>\n",
       "    </tr>\n",
       "    <tr>\n",
       "      <th>4</th>\n",
       "      <td>4</td>\n",
       "      <td>0</td>\n",
       "      <td>-1</td>\n",
       "      <td>0</td>\n",
       "      <td>2</td>\n",
       "      <td>0</td>\n",
       "      <td>0</td>\n",
       "    </tr>\n",
       "    <tr>\n",
       "      <th>5</th>\n",
       "      <td>5</td>\n",
       "      <td>2</td>\n",
       "      <td>-1</td>\n",
       "      <td>1</td>\n",
       "      <td>2</td>\n",
       "      <td>0</td>\n",
       "      <td>1</td>\n",
       "    </tr>\n",
       "    <tr>\n",
       "      <th>6</th>\n",
       "      <td>6</td>\n",
       "      <td>2</td>\n",
       "      <td>0</td>\n",
       "      <td>1</td>\n",
       "      <td>2</td>\n",
       "      <td>0</td>\n",
       "      <td>0</td>\n",
       "    </tr>\n",
       "    <tr>\n",
       "      <th>7</th>\n",
       "      <td>7</td>\n",
       "      <td>3</td>\n",
       "      <td>-1</td>\n",
       "      <td>1</td>\n",
       "      <td>0</td>\n",
       "      <td>0</td>\n",
       "      <td>1</td>\n",
       "    </tr>\n",
       "    <tr>\n",
       "      <th>8</th>\n",
       "      <td>8</td>\n",
       "      <td>8</td>\n",
       "      <td>0</td>\n",
       "      <td>1</td>\n",
       "      <td>2</td>\n",
       "      <td>0</td>\n",
       "      <td>0</td>\n",
       "    </tr>\n",
       "    <tr>\n",
       "      <th>9</th>\n",
       "      <td>9</td>\n",
       "      <td>7</td>\n",
       "      <td>-1</td>\n",
       "      <td>1</td>\n",
       "      <td>2</td>\n",
       "      <td>0</td>\n",
       "      <td>0</td>\n",
       "    </tr>\n",
       "    <tr>\n",
       "      <th>10</th>\n",
       "      <td>4</td>\n",
       "      <td>6</td>\n",
       "      <td>-1</td>\n",
       "      <td>1</td>\n",
       "      <td>2</td>\n",
       "      <td>0</td>\n",
       "      <td>1</td>\n",
       "    </tr>\n",
       "    <tr>\n",
       "      <th>11</th>\n",
       "      <td>6</td>\n",
       "      <td>4</td>\n",
       "      <td>-1</td>\n",
       "      <td>1</td>\n",
       "      <td>2</td>\n",
       "      <td>0</td>\n",
       "      <td>2</td>\n",
       "    </tr>\n",
       "    <tr>\n",
       "      <th>12</th>\n",
       "      <td>4</td>\n",
       "      <td>4</td>\n",
       "      <td>-1</td>\n",
       "      <td>1</td>\n",
       "      <td>1</td>\n",
       "      <td>0</td>\n",
       "      <td>2</td>\n",
       "    </tr>\n",
       "    <tr>\n",
       "      <th>13</th>\n",
       "      <td>8</td>\n",
       "      <td>6</td>\n",
       "      <td>0</td>\n",
       "      <td>1</td>\n",
       "      <td>2</td>\n",
       "      <td>0</td>\n",
       "      <td>0</td>\n",
       "    </tr>\n",
       "    <tr>\n",
       "      <th>14</th>\n",
       "      <td>6</td>\n",
       "      <td>0</td>\n",
       "      <td>-1</td>\n",
       "      <td>1</td>\n",
       "      <td>2</td>\n",
       "      <td>0</td>\n",
       "      <td>1</td>\n",
       "    </tr>\n",
       "  </tbody>\n",
       "</table>\n",
       "</div>"
      ],
      "text/plain": [
       "    age  time_in_hospital  num_medications  number_diagnoses  insulin  \\\n",
       "0     0                 0               -1                -1        0   \n",
       "1     1                 2               -1                 1        3   \n",
       "2     2                 1               -1                 0        0   \n",
       "3     3                 1               -1                 1        3   \n",
       "4     4                 0               -1                 0        2   \n",
       "5     5                 2               -1                 1        2   \n",
       "6     6                 2                0                 1        2   \n",
       "7     7                 3               -1                 1        0   \n",
       "8     8                 8                0                 1        2   \n",
       "9     9                 7               -1                 1        2   \n",
       "10    4                 6               -1                 1        2   \n",
       "11    6                 4               -1                 1        2   \n",
       "12    4                 4               -1                 1        1   \n",
       "13    8                 6                0                 1        2   \n",
       "14    6                 0               -1                 1        2   \n",
       "\n",
       "    A1Cresult  readmitted  \n",
       "0           0           0  \n",
       "1           0           1  \n",
       "2           0           0  \n",
       "3           0           0  \n",
       "4           0           0  \n",
       "5           0           1  \n",
       "6           0           0  \n",
       "7           0           1  \n",
       "8           0           0  \n",
       "9           0           0  \n",
       "10          0           1  \n",
       "11          0           2  \n",
       "12          0           2  \n",
       "13          0           0  \n",
       "14          0           1  "
      ]
     },
     "execution_count": 44,
     "metadata": {},
     "output_type": "execute_result"
    }
   ],
   "source": [
    "reduced_df.head(15)"
   ]
  },
  {
   "cell_type": "code",
   "execution_count": 45,
   "metadata": {},
   "outputs": [
    {
     "name": "stdout",
     "output_type": "stream",
     "text": [
      "dataset exported ...\n"
     ]
    }
   ],
   "source": [
    "# Export full dataset\n",
    "reduced_df.to_csv('../data/full_transformed_diabetic_data.csv', index=False)\n",
    "print(\"dataset exported ...\")"
   ]
  },
  {
   "cell_type": "code",
   "execution_count": 46,
   "metadata": {},
   "outputs": [
    {
     "name": "stdout",
     "output_type": "stream",
     "text": [
      "X and y separated ...\n"
     ]
    }
   ],
   "source": [
    "# Separate features (X) and target labels (y)\n",
    "X = reduced_df.drop(columns=['readmitted'])  # Features\n",
    "y = reduced_df['readmitted']  # Target labels\n",
    "print(\"X and y separated ...\")"
   ]
  },
  {
   "cell_type": "code",
   "execution_count": 47,
   "metadata": {},
   "outputs": [
    {
     "name": "stdout",
     "output_type": "stream",
     "text": [
      "Train test split executed ...\n"
     ]
    }
   ],
   "source": [
    "X_train, X_test, y_train, y_test = train_test_split(X, y, test_size=0.2, random_state=42, stratify=y)\n",
    "print(\"Train test split executed ...\")"
   ]
  },
  {
   "cell_type": "code",
   "execution_count": 48,
   "metadata": {},
   "outputs": [
    {
     "name": "stdout",
     "output_type": "stream",
     "text": [
      "Training and Testing Data exported ...\n"
     ]
    }
   ],
   "source": [
    "# Combine the training data and labels\n",
    "train_data = X_train.copy()\n",
    "train_data['readmitted'] = y_train\n",
    "\n",
    "# Combine the testing data and labels\n",
    "test_data = X_test.copy()\n",
    "test_data['readmitted'] = y_test\n",
    "\n",
    "# Export training data to a CSV file\n",
    "train_data.to_csv('../data/train_transformed_diabetic_data.csv', index=False)\n",
    "\n",
    "# Export testing data to a CSV file\n",
    "test_data.to_csv('../data/test_transformed_diabetic_data.csv', index=False)\n",
    "\n",
    "print(\"Training and Testing Data exported ...\")"
   ]
  }
 ],
 "metadata": {
  "kernelspec": {
   "display_name": "Python 3",
   "language": "python",
   "name": "python3"
  },
  "language_info": {
   "codemirror_mode": {
    "name": "ipython",
    "version": 3
   },
   "file_extension": ".py",
   "mimetype": "text/x-python",
   "name": "python",
   "nbconvert_exporter": "python",
   "pygments_lexer": "ipython3",
   "version": "3.12.1"
  }
 },
 "nbformat": 4,
 "nbformat_minor": 2
}
