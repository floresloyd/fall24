{
 "cells": [
  {
   "cell_type": "code",
   "execution_count": 7,
   "metadata": {},
   "outputs": [],
   "source": [
    "# import packages\n",
    "import pandas as pd\n",
    "import numpy as np"
   ]
  },
  {
   "cell_type": "code",
   "execution_count": 33,
   "metadata": {},
   "outputs": [
    {
     "name": "stdout",
     "output_type": "stream",
     "text": [
      "        Type Overall Type Arrangement   Margin Margin Sub-category  Count\n",
      "0    Dogwood       Simple    Opposite   Entire                None      2\n",
      "1      Maple       Simple    Opposite    Lobed                None      2\n",
      "2        Ash     Compound    Opposite     None                None     40\n",
      "3     Hickey     Compound        None  Toothed                None      2\n",
      "4     Locust     Compound   Alternate   Entire                None      2\n",
      "5     Cherry       Simple   Alternate  Toothed                None      2\n",
      "6  White Oak       Simple   Alternate    Lobed             Rounded    100\n",
      "7    Red Oak       Simple   Alternate    Lobed             Pointed    100\n"
     ]
    }
   ],
   "source": [
    "# Load Data\n",
    "data = {\n",
    "    \"Type\": [\"Dogwood\", \"Maple\", \"Ash\", \"Hickey\", \"Locust\", \"Cherry\", \"White Oak\", \"Red Oak\"],\n",
    "    \"Overall Type\": [\"Simple\", \"Simple\", \"Compound\", \"Compound\", \"Compound\", \"Simple\", \"Simple\", \"Simple\"],\n",
    "    \"Arrangement\": [\"Opposite\", \"Opposite\", \"Opposite\", None, \"Alternate\", \"Alternate\", \"Alternate\", \"Alternate\"],\n",
    "    \"Margin\": [\"Entire\", \"Lobed\", None, \"Toothed\", \"Entire\", \"Toothed\", \"Lobed\", \"Lobed\"],\n",
    "    \"Margin Sub-category\": [None, None, None, None, None, None, \"Rounded\", \"Pointed\"],\n",
    "    \"Count\": [2, 2, 40, 2, 2, 2, 100, 100]\n",
    "}\n",
    "\n",
    "# Create the DataFrame\n",
    "df = pd.DataFrame(data)\n",
    "\n",
    "# Display the DataFrame\n",
    "print(df)"
   ]
  },
  {
   "cell_type": "code",
   "execution_count": 34,
   "metadata": {},
   "outputs": [
    {
     "name": "stdout",
     "output_type": "stream",
     "text": [
      "  Type  Margin Overall Type Arrangement  Count\n",
      "0    I  Entire       Simple    Opposite     42\n",
      "1   II   Lobed     Compound   Alternate     50\n",
      "2    I   Lobed       Simple   Alternate     27\n",
      "3   II   Lobed     Compound    Opposite     42\n",
      "4    I  Entire     Compound    Opposite     13\n"
     ]
    }
   ],
   "source": [
    "# Load Data\n",
    "data = {\n",
    "    \"Type\": [\"I\", \"II\", \"I\", \"II\", \"I\"],\n",
    "    \"Margin\": [\"Entire\", \"Lobed\", \"Lobed\", \"Lobed\", \"Entire\"],\n",
    "    \"Overall Type\": [\"Simple\", \"Compound\", \"Simple\", \"Compound\", \"Compound\"],\n",
    "    \"Arrangement\": [\"Opposite\", \"Alternate\", \"Alternate\", \"Opposite\", \"Opposite\"],\n",
    "    \"Count\": [42, 50, 27, 42, 13]\n",
    "}\n",
    "\n",
    "# Create the DataFrame\n",
    "df = pd.DataFrame(data)\n",
    "\n",
    "# Display the DataFrame\n",
    "print(df)"
   ]
  },
  {
   "cell_type": "code",
   "execution_count": 35,
   "metadata": {},
   "outputs": [
    {
     "name": "stdout",
     "output_type": "stream",
     "text": [
      "Probabilities for features calculated ....\n"
     ]
    }
   ],
   "source": [
    "# Calculate probabilities for each type\n",
    "# Get Prob: type(tree)/ N \n",
    "# Ex      : type(red_oak) / 250 == 100/250 = .4\n",
    "df[\"Probability\"] = df[\"Count\"] / df[\"Count\"].sum() \n",
    "print(\"Probabilities for features calculated ....\")"
   ]
  },
  {
   "cell_type": "code",
   "execution_count": 36,
   "metadata": {},
   "outputs": [
    {
     "data": {
      "text/html": [
       "<div>\n",
       "<style scoped>\n",
       "    .dataframe tbody tr th:only-of-type {\n",
       "        vertical-align: middle;\n",
       "    }\n",
       "\n",
       "    .dataframe tbody tr th {\n",
       "        vertical-align: top;\n",
       "    }\n",
       "\n",
       "    .dataframe thead th {\n",
       "        text-align: right;\n",
       "    }\n",
       "</style>\n",
       "<table border=\"1\" class=\"dataframe\">\n",
       "  <thead>\n",
       "    <tr style=\"text-align: right;\">\n",
       "      <th></th>\n",
       "      <th>Type</th>\n",
       "      <th>Margin</th>\n",
       "      <th>Overall Type</th>\n",
       "      <th>Arrangement</th>\n",
       "      <th>Count</th>\n",
       "      <th>Probability</th>\n",
       "    </tr>\n",
       "  </thead>\n",
       "  <tbody>\n",
       "    <tr>\n",
       "      <th>0</th>\n",
       "      <td>I</td>\n",
       "      <td>Entire</td>\n",
       "      <td>Simple</td>\n",
       "      <td>Opposite</td>\n",
       "      <td>42</td>\n",
       "      <td>0.241379</td>\n",
       "    </tr>\n",
       "    <tr>\n",
       "      <th>1</th>\n",
       "      <td>II</td>\n",
       "      <td>Lobed</td>\n",
       "      <td>Compound</td>\n",
       "      <td>Alternate</td>\n",
       "      <td>50</td>\n",
       "      <td>0.287356</td>\n",
       "    </tr>\n",
       "    <tr>\n",
       "      <th>2</th>\n",
       "      <td>I</td>\n",
       "      <td>Lobed</td>\n",
       "      <td>Simple</td>\n",
       "      <td>Alternate</td>\n",
       "      <td>27</td>\n",
       "      <td>0.155172</td>\n",
       "    </tr>\n",
       "    <tr>\n",
       "      <th>3</th>\n",
       "      <td>II</td>\n",
       "      <td>Lobed</td>\n",
       "      <td>Compound</td>\n",
       "      <td>Opposite</td>\n",
       "      <td>42</td>\n",
       "      <td>0.241379</td>\n",
       "    </tr>\n",
       "    <tr>\n",
       "      <th>4</th>\n",
       "      <td>I</td>\n",
       "      <td>Entire</td>\n",
       "      <td>Compound</td>\n",
       "      <td>Opposite</td>\n",
       "      <td>13</td>\n",
       "      <td>0.074713</td>\n",
       "    </tr>\n",
       "  </tbody>\n",
       "</table>\n",
       "</div>"
      ],
      "text/plain": [
       "  Type  Margin Overall Type Arrangement  Count  Probability\n",
       "0    I  Entire       Simple    Opposite     42     0.241379\n",
       "1   II   Lobed     Compound   Alternate     50     0.287356\n",
       "2    I   Lobed       Simple   Alternate     27     0.155172\n",
       "3   II   Lobed     Compound    Opposite     42     0.241379\n",
       "4    I  Entire     Compound    Opposite     13     0.074713"
      ]
     },
     "execution_count": 36,
     "metadata": {},
     "output_type": "execute_result"
    }
   ],
   "source": [
    "df"
   ]
  },
  {
   "cell_type": "code",
   "execution_count": 37,
   "metadata": {},
   "outputs": [
    {
     "name": "stdout",
     "output_type": "stream",
     "text": [
      "entropy() declared ....\n"
     ]
    }
   ],
   "source": [
    "# Function to calculate entropy for a single attribute\n",
    "# Information Uncertainty: I(Q -> Type)\n",
    "def entropy(feature):\n",
    "    # Calculate the probability of each unique value in the feature column\n",
    "    entropy_val = 0\n",
    "    for value in df[feature].unique():  # Iterate over all unique values in the feature\n",
    "        # Subset the DataFrame by the feature value\n",
    "        subset = df[df[feature] == value]\n",
    "        \n",
    "        # Calculate the probability of each type within this subset\n",
    "        subset_prob = subset[\"Probability\"]\n",
    "        print(subset_prob)\n",
    "        \n",
    "        # Calculate entropy contribution for each type\n",
    "        #               -E(prob * log_2(prob))\n",
    "        entropy_value = -np.sum(subset_prob * np.log2(subset_prob))\n",
    "        \n",
    "        # Weight by the probability of the feature value's occurrence\n",
    "        feature_prob = subset[\"Count\"].sum() / df[\"Count\"].sum()\n",
    "        entropy_val += feature_prob * entropy_value\n",
    "    \n",
    "    return entropy_val\n",
    "print(\"entropy() declared ....\")"
   ]
  },
  {
   "cell_type": "code",
   "execution_count": 38,
   "metadata": {},
   "outputs": [
    {
     "name": "stdout",
     "output_type": "stream",
     "text": [
      "information_gain() declared ...\n"
     ]
    }
   ],
   "source": [
    "# Function to calculate information gain\n",
    "# Expectation & Information Certainty: \n",
    "def information_gain(feature):\n",
    "    # Calculate entropy of the feature\n",
    "    feature_entropy = entropy(feature)\n",
    "    \n",
    "    # Calculate the information measure for each feature (total entropy - feature entropy)\n",
    "    total_entropy = -np.sum(df[\"Probability\"] * np.log2(df[\"Probability\"]))\n",
    "    return total_entropy - feature_entropy\n",
    "\n",
    "print(\"information_gain() declared ...\")"
   ]
  },
  {
   "cell_type": "code",
   "execution_count": 39,
   "metadata": {},
   "outputs": [
    {
     "name": "stdout",
     "output_type": "stream",
     "text": [
      "0    0.241379\n",
      "4    0.074713\n",
      "Name: Probability, dtype: float64\n",
      "1    0.287356\n",
      "2    0.155172\n",
      "3    0.241379\n",
      "Name: Probability, dtype: float64\n",
      "0    0.241379\n",
      "2    0.155172\n",
      "Name: Probability, dtype: float64\n",
      "1    0.287356\n",
      "3    0.241379\n",
      "4    0.074713\n",
      "Name: Probability, dtype: float64\n",
      "0    0.241379\n",
      "3    0.241379\n",
      "4    0.074713\n",
      "Name: Probability, dtype: float64\n",
      "1    0.287356\n",
      "2    0.155172\n",
      "Name: Probability, dtype: float64\n"
     ]
    }
   ],
   "source": [
    "# Calculate information gain for each feature\n",
    "features = [\"Margin\", \"Overall Type\", \"Arrangement\"]\n",
    "info_gain_results = {feature: information_gain(feature) for feature in features}"
   ]
  },
  {
   "cell_type": "code",
   "execution_count": 26,
   "metadata": {},
   "outputs": [
    {
     "name": "stdout",
     "output_type": "stream",
     "text": [
      "0    0.241379\n",
      "2    0.155172\n",
      "Name: Probability, dtype: float64\n",
      "1    0.287356\n",
      "3    0.241379\n",
      "4    0.074713\n",
      "Name: Probability, dtype: float64\n",
      "0    0.241379\n",
      "3    0.241379\n",
      "4    0.074713\n",
      "Name: Probability, dtype: float64\n",
      "1    0.287356\n",
      "2    0.155172\n",
      "Name: Probability, dtype: float64\n",
      "0    0.241379\n",
      "4    0.074713\n",
      "Name: Probability, dtype: float64\n",
      "1    0.287356\n",
      "2    0.155172\n",
      "3    0.241379\n",
      "Name: Probability, dtype: float64\n"
     ]
    },
    {
     "ename": "KeyError",
     "evalue": "'Margin Sub-category'",
     "output_type": "error",
     "traceback": [
      "\u001b[1;31m---------------------------------------------------------------------------\u001b[0m",
      "\u001b[1;31mKeyError\u001b[0m                                  Traceback (most recent call last)",
      "File \u001b[1;32mc:\\Users\\lenovo\\AppData\\Local\\Programs\\Python\\Python311\\Lib\\site-packages\\pandas\\core\\indexes\\base.py:3803\u001b[0m, in \u001b[0;36mIndex.get_loc\u001b[1;34m(self, key, method, tolerance)\u001b[0m\n\u001b[0;32m   3802\u001b[0m \u001b[38;5;28;01mtry\u001b[39;00m:\n\u001b[1;32m-> 3803\u001b[0m     \u001b[38;5;28;01mreturn\u001b[39;00m \u001b[38;5;28;43mself\u001b[39;49m\u001b[38;5;241;43m.\u001b[39;49m\u001b[43m_engine\u001b[49m\u001b[38;5;241;43m.\u001b[39;49m\u001b[43mget_loc\u001b[49m\u001b[43m(\u001b[49m\u001b[43mcasted_key\u001b[49m\u001b[43m)\u001b[49m\n\u001b[0;32m   3804\u001b[0m \u001b[38;5;28;01mexcept\u001b[39;00m \u001b[38;5;167;01mKeyError\u001b[39;00m \u001b[38;5;28;01mas\u001b[39;00m err:\n",
      "File \u001b[1;32mc:\\Users\\lenovo\\AppData\\Local\\Programs\\Python\\Python311\\Lib\\site-packages\\pandas\\_libs\\index.pyx:138\u001b[0m, in \u001b[0;36mpandas._libs.index.IndexEngine.get_loc\u001b[1;34m()\u001b[0m\n",
      "File \u001b[1;32mc:\\Users\\lenovo\\AppData\\Local\\Programs\\Python\\Python311\\Lib\\site-packages\\pandas\\_libs\\index.pyx:165\u001b[0m, in \u001b[0;36mpandas._libs.index.IndexEngine.get_loc\u001b[1;34m()\u001b[0m\n",
      "File \u001b[1;32mpandas\\_libs\\hashtable_class_helper.pxi:5745\u001b[0m, in \u001b[0;36mpandas._libs.hashtable.PyObjectHashTable.get_item\u001b[1;34m()\u001b[0m\n",
      "File \u001b[1;32mpandas\\_libs\\hashtable_class_helper.pxi:5753\u001b[0m, in \u001b[0;36mpandas._libs.hashtable.PyObjectHashTable.get_item\u001b[1;34m()\u001b[0m\n",
      "\u001b[1;31mKeyError\u001b[0m: 'Margin Sub-category'",
      "\nThe above exception was the direct cause of the following exception:\n",
      "\u001b[1;31mKeyError\u001b[0m                                  Traceback (most recent call last)",
      "Cell \u001b[1;32mIn[26], line 3\u001b[0m\n\u001b[0;32m      1\u001b[0m \u001b[38;5;66;03m# Calculate information gain for each feature\u001b[39;00m\n\u001b[0;32m      2\u001b[0m features \u001b[38;5;241m=\u001b[39m [\u001b[38;5;124m\"\u001b[39m\u001b[38;5;124mOverall Type\u001b[39m\u001b[38;5;124m\"\u001b[39m, \u001b[38;5;124m\"\u001b[39m\u001b[38;5;124mArrangement\u001b[39m\u001b[38;5;124m\"\u001b[39m, \u001b[38;5;124m\"\u001b[39m\u001b[38;5;124mMargin\u001b[39m\u001b[38;5;124m\"\u001b[39m, \u001b[38;5;124m\"\u001b[39m\u001b[38;5;124mMargin Sub-category\u001b[39m\u001b[38;5;124m\"\u001b[39m]\n\u001b[1;32m----> 3\u001b[0m info_gain_results \u001b[38;5;241m=\u001b[39m \u001b[43m{\u001b[49m\u001b[43mfeature\u001b[49m\u001b[43m:\u001b[49m\u001b[43m \u001b[49m\u001b[43minformation_gain\u001b[49m\u001b[43m(\u001b[49m\u001b[43mfeature\u001b[49m\u001b[43m)\u001b[49m\u001b[43m \u001b[49m\u001b[38;5;28;43;01mfor\u001b[39;49;00m\u001b[43m \u001b[49m\u001b[43mfeature\u001b[49m\u001b[43m \u001b[49m\u001b[38;5;129;43;01min\u001b[39;49;00m\u001b[43m \u001b[49m\u001b[43mfeatures\u001b[49m\u001b[43m}\u001b[49m\n",
      "Cell \u001b[1;32mIn[26], line 3\u001b[0m, in \u001b[0;36m<dictcomp>\u001b[1;34m(.0)\u001b[0m\n\u001b[0;32m      1\u001b[0m \u001b[38;5;66;03m# Calculate information gain for each feature\u001b[39;00m\n\u001b[0;32m      2\u001b[0m features \u001b[38;5;241m=\u001b[39m [\u001b[38;5;124m\"\u001b[39m\u001b[38;5;124mOverall Type\u001b[39m\u001b[38;5;124m\"\u001b[39m, \u001b[38;5;124m\"\u001b[39m\u001b[38;5;124mArrangement\u001b[39m\u001b[38;5;124m\"\u001b[39m, \u001b[38;5;124m\"\u001b[39m\u001b[38;5;124mMargin\u001b[39m\u001b[38;5;124m\"\u001b[39m, \u001b[38;5;124m\"\u001b[39m\u001b[38;5;124mMargin Sub-category\u001b[39m\u001b[38;5;124m\"\u001b[39m]\n\u001b[1;32m----> 3\u001b[0m info_gain_results \u001b[38;5;241m=\u001b[39m {feature: \u001b[43minformation_gain\u001b[49m\u001b[43m(\u001b[49m\u001b[43mfeature\u001b[49m\u001b[43m)\u001b[49m \u001b[38;5;28;01mfor\u001b[39;00m feature \u001b[38;5;129;01min\u001b[39;00m features}\n",
      "Cell \u001b[1;32mIn[25], line 5\u001b[0m, in \u001b[0;36minformation_gain\u001b[1;34m(feature)\u001b[0m\n\u001b[0;32m      3\u001b[0m \u001b[38;5;28;01mdef\u001b[39;00m \u001b[38;5;21minformation_gain\u001b[39m(feature):\n\u001b[0;32m      4\u001b[0m     \u001b[38;5;66;03m# Calculate entropy of the feature\u001b[39;00m\n\u001b[1;32m----> 5\u001b[0m     feature_entropy \u001b[38;5;241m=\u001b[39m \u001b[43mentropy\u001b[49m\u001b[43m(\u001b[49m\u001b[43mfeature\u001b[49m\u001b[43m)\u001b[49m\n\u001b[0;32m      7\u001b[0m     \u001b[38;5;66;03m# Calculate the information measure for each feature (total entropy - feature entropy)\u001b[39;00m\n\u001b[0;32m      8\u001b[0m     total_entropy \u001b[38;5;241m=\u001b[39m \u001b[38;5;241m-\u001b[39mnp\u001b[38;5;241m.\u001b[39msum(df[\u001b[38;5;124m\"\u001b[39m\u001b[38;5;124mProbability\u001b[39m\u001b[38;5;124m\"\u001b[39m] \u001b[38;5;241m*\u001b[39m np\u001b[38;5;241m.\u001b[39mlog2(df[\u001b[38;5;124m\"\u001b[39m\u001b[38;5;124mProbability\u001b[39m\u001b[38;5;124m\"\u001b[39m]))\n",
      "Cell \u001b[1;32mIn[24], line 6\u001b[0m, in \u001b[0;36mentropy\u001b[1;34m(feature)\u001b[0m\n\u001b[0;32m      3\u001b[0m \u001b[38;5;28;01mdef\u001b[39;00m \u001b[38;5;21mentropy\u001b[39m(feature):\n\u001b[0;32m      4\u001b[0m     \u001b[38;5;66;03m# Calculate the probability of each unique value in the feature column\u001b[39;00m\n\u001b[0;32m      5\u001b[0m     entropy_val \u001b[38;5;241m=\u001b[39m \u001b[38;5;241m0\u001b[39m\n\u001b[1;32m----> 6\u001b[0m     \u001b[38;5;28;01mfor\u001b[39;00m value \u001b[38;5;129;01min\u001b[39;00m \u001b[43mdf\u001b[49m\u001b[43m[\u001b[49m\u001b[43mfeature\u001b[49m\u001b[43m]\u001b[49m\u001b[38;5;241m.\u001b[39munique():  \u001b[38;5;66;03m# Iterate over all unique values in the feature\u001b[39;00m\n\u001b[0;32m      7\u001b[0m         \u001b[38;5;66;03m# Subset the DataFrame by the feature value\u001b[39;00m\n\u001b[0;32m      8\u001b[0m         subset \u001b[38;5;241m=\u001b[39m df[df[feature] \u001b[38;5;241m==\u001b[39m value]\n\u001b[0;32m     10\u001b[0m         \u001b[38;5;66;03m# Calculate the probability of each type within this subset\u001b[39;00m\n",
      "File \u001b[1;32mc:\\Users\\lenovo\\AppData\\Local\\Programs\\Python\\Python311\\Lib\\site-packages\\pandas\\core\\frame.py:3805\u001b[0m, in \u001b[0;36mDataFrame.__getitem__\u001b[1;34m(self, key)\u001b[0m\n\u001b[0;32m   3803\u001b[0m \u001b[38;5;28;01mif\u001b[39;00m \u001b[38;5;28mself\u001b[39m\u001b[38;5;241m.\u001b[39mcolumns\u001b[38;5;241m.\u001b[39mnlevels \u001b[38;5;241m>\u001b[39m \u001b[38;5;241m1\u001b[39m:\n\u001b[0;32m   3804\u001b[0m     \u001b[38;5;28;01mreturn\u001b[39;00m \u001b[38;5;28mself\u001b[39m\u001b[38;5;241m.\u001b[39m_getitem_multilevel(key)\n\u001b[1;32m-> 3805\u001b[0m indexer \u001b[38;5;241m=\u001b[39m \u001b[38;5;28;43mself\u001b[39;49m\u001b[38;5;241;43m.\u001b[39;49m\u001b[43mcolumns\u001b[49m\u001b[38;5;241;43m.\u001b[39;49m\u001b[43mget_loc\u001b[49m\u001b[43m(\u001b[49m\u001b[43mkey\u001b[49m\u001b[43m)\u001b[49m\n\u001b[0;32m   3806\u001b[0m \u001b[38;5;28;01mif\u001b[39;00m is_integer(indexer):\n\u001b[0;32m   3807\u001b[0m     indexer \u001b[38;5;241m=\u001b[39m [indexer]\n",
      "File \u001b[1;32mc:\\Users\\lenovo\\AppData\\Local\\Programs\\Python\\Python311\\Lib\\site-packages\\pandas\\core\\indexes\\base.py:3805\u001b[0m, in \u001b[0;36mIndex.get_loc\u001b[1;34m(self, key, method, tolerance)\u001b[0m\n\u001b[0;32m   3803\u001b[0m     \u001b[38;5;28;01mreturn\u001b[39;00m \u001b[38;5;28mself\u001b[39m\u001b[38;5;241m.\u001b[39m_engine\u001b[38;5;241m.\u001b[39mget_loc(casted_key)\n\u001b[0;32m   3804\u001b[0m \u001b[38;5;28;01mexcept\u001b[39;00m \u001b[38;5;167;01mKeyError\u001b[39;00m \u001b[38;5;28;01mas\u001b[39;00m err:\n\u001b[1;32m-> 3805\u001b[0m     \u001b[38;5;28;01mraise\u001b[39;00m \u001b[38;5;167;01mKeyError\u001b[39;00m(key) \u001b[38;5;28;01mfrom\u001b[39;00m \u001b[38;5;21;01merr\u001b[39;00m\n\u001b[0;32m   3806\u001b[0m \u001b[38;5;28;01mexcept\u001b[39;00m \u001b[38;5;167;01mTypeError\u001b[39;00m:\n\u001b[0;32m   3807\u001b[0m     \u001b[38;5;66;03m# If we have a listlike key, _check_indexing_error will raise\u001b[39;00m\n\u001b[0;32m   3808\u001b[0m     \u001b[38;5;66;03m#  InvalidIndexError. Otherwise we fall through and re-raise\u001b[39;00m\n\u001b[0;32m   3809\u001b[0m     \u001b[38;5;66;03m#  the TypeError.\u001b[39;00m\n\u001b[0;32m   3810\u001b[0m     \u001b[38;5;28mself\u001b[39m\u001b[38;5;241m.\u001b[39m_check_indexing_error(key)\n",
      "\u001b[1;31mKeyError\u001b[0m: 'Margin Sub-category'"
     ]
    }
   ],
   "source": [
    "# Calculate information gain for each feature\n",
    "features = [\"Overall Type\", \"Arrangement\", \"Margin\", \"Margin Sub-category\"]\n",
    "info_gain_results = {feature: information_gain(feature) for feature in features}"
   ]
  },
  {
   "cell_type": "code",
   "execution_count": 40,
   "metadata": {},
   "outputs": [
    {
     "name": "stdout",
     "output_type": "stream",
     "text": [
      "Information Gain for each feature:\n",
      "Margin: 0.9814665718204241\n",
      "Overall Type: 1.0625740249257531\n",
      "Arrangement: 1.0825501322507105\n"
     ]
    }
   ],
   "source": [
    "# Display the results\n",
    "print(\"Information Gain for each feature:\")\n",
    "for feature, ig in info_gain_results.items():\n",
    "    print(f\"{feature}: {ig}\")"
   ]
  },
  {
   "cell_type": "code",
   "execution_count": 32,
   "metadata": {},
   "outputs": [
    {
     "name": "stdout",
     "output_type": "stream",
     "text": [
      "\n",
      "Most important feature based on information gain: Arrangement\n"
     ]
    }
   ],
   "source": [
    "# Determine the feature with the highest information gain\n",
    "most_important_feature = max(info_gain_results, key=info_gain_results.get)\n",
    "print(f\"\\nMost important feature based on information gain: {most_important_feature}\")"
   ]
  },
  {
   "cell_type": "markdown",
   "metadata": {},
   "source": [
    "\n",
    "2. "
   ]
  }
 ],
 "metadata": {
  "kernelspec": {
   "display_name": "Python 3",
   "language": "python",
   "name": "python3"
  },
  "language_info": {
   "codemirror_mode": {
    "name": "ipython",
    "version": 3
   },
   "file_extension": ".py",
   "mimetype": "text/x-python",
   "name": "python",
   "nbconvert_exporter": "python",
   "pygments_lexer": "ipython3",
   "version": "3.11.1"
  }
 },
 "nbformat": 4,
 "nbformat_minor": 2
}
